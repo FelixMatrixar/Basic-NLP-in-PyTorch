{
  "cells": [
    {
      "cell_type": "markdown",
      "metadata": {
        "id": "R3ycSvl7ukaA"
      },
      "source": [
        "# **Perbandingan Algoritma Support Vector Machine, Rule-Based Classifier, dan Gradient Boosted Decision Tree dalam Analisis Sentimen**\n",
        "\n",
        "\n",
        "---\n",
        "\n",
        "**KELOMPOK REKOGNISI**\n",
        "\n",
        "\n",
        "> Fachri Kurniansyah - M0721025\n",
        "\n",
        "\n",
        "> Felix - M0721028\n",
        "\n",
        "pada tugas ini, akan dilakukan analisis sentimen menggunakan 3 model berbeda, yaitu :\n",
        "- **Support Vector machine**\n",
        "- **Rule-Based Classifier**\n",
        "- **Gradient Boosted Decision Tree**\n",
        "\n",
        "Data yang digunakan adalah data yang didapatkan dari github [**`indonlu/dataset/smsa_doc-sentiment-prosa`**](https://github.com/IndoNLP/indonlu/tree/master/dataset/smsa_doc-sentiment-prosa). Analisis sentimen ini akan menggunakan **TF-IDF** sebagai metode vektorisasi.\n",
        "<br>\n",
        "<br>\n",
        "Untuk Notebook, reguirements, dan hasil perbandingan antar model dapat dilihat di github berikut [**`FelixMatrixar/Basic-NLP-in-PyTorch`**](https://github.com/FelixMatrixar/Basic-NLP-in-PyTorch/blob/main/Felix_Fachri%20Tugas%20Kelompok%20(Revised).ipynb)."
      ]
    },
    {
      "cell_type": "markdown",
      "metadata": {
        "id": "hGsXkQY5s5nC"
      },
      "source": [
        "---\n",
        "# **Import Library**\n",
        "\n",
        "\n",
        "\n",
        "Tahap ini adalah meng-import **Library** yang dibutuhkan selama proses analisis sentimen dilakukan."
      ]
    },
    {
      "cell_type": "code",
      "execution_count": 1,
      "metadata": {
        "colab": {
          "base_uri": "https://localhost:8080/"
        },
        "id": "zLKnBZ6gzk5Q",
        "outputId": "7476e362-7f45-44e8-9719-80664d26468a"
      },
      "outputs": [
        {
          "name": "stderr",
          "output_type": "stream",
          "text": [
            "c:\\Users\\celle\\Documents\\DNDT\\venv\\Lib\\site-packages\\tqdm\\auto.py:21: TqdmWarning: IProgress not found. Please update jupyter and ipywidgets. See https://ipywidgets.readthedocs.io/en/stable/user_install.html\n",
            "  from .autonotebook import tqdm as notebook_tqdm\n"
          ]
        }
      ],
      "source": [
        "import asyncio\n",
        "import matplotlib.pyplot as plt\n",
        "import nest_asyncio\n",
        "import nltk\n",
        "import optuna\n",
        "import pandas as pd\n",
        "import re\n",
        "\n",
        "from abc import ABC, abstractmethod\n",
        "from nltk.corpus import stopwords\n",
        "from Sastrawi.Stemmer.StemmerFactory import StemmerFactory\n",
        "from Sastrawi.StopWordRemover.StopWordRemoverFactory import StopWordRemoverFactory\n",
        "from sklearn.dummy import DummyClassifier\n",
        "from sklearn.ensemble import HistGradientBoostingClassifier\n",
        "from sklearn.feature_extraction.text import TfidfVectorizer\n",
        "from sklearn.metrics import classification_report, accuracy_score\n",
        "from sklearn.model_selection import cross_val_score\n",
        "from sklearn.svm import SVC\n",
        "\n",
        "nest_asyncio.apply()"
      ]
    },
    {
      "cell_type": "code",
      "execution_count": 2,
      "metadata": {
        "id": "LeGcGJ2zxKRU"
      },
      "outputs": [
        {
          "name": "stderr",
          "output_type": "stream",
          "text": [
            "[nltk_data] Downloading package punkt to\n",
            "[nltk_data]     C:\\Users\\celle\\AppData\\Roaming\\nltk_data...\n",
            "[nltk_data]   Package punkt is already up-to-date!\n",
            "[nltk_data] Downloading package stopwords to\n",
            "[nltk_data]     C:\\Users\\celle\\AppData\\Roaming\\nltk_data...\n",
            "[nltk_data]   Package stopwords is already up-to-date!\n"
          ]
        },
        {
          "data": {
            "text/plain": [
              "True"
            ]
          },
          "execution_count": 2,
          "metadata": {},
          "output_type": "execute_result"
        }
      ],
      "source": [
        "nltk.download('punkt')\n",
        "nltk.download('stopwords')"
      ]
    },
    {
      "cell_type": "markdown",
      "metadata": {
        "id": "6tzVTrijtBQK"
      },
      "source": [
        "---\n",
        "# **Import Data**\n",
        "\n",
        "Tahap ini berfungsi untuk *meng-import* **data train** dan **data test** yang berisi 2 kolom, yaitu `text` dan `label` dengan total 11.500 baris. Pada `label` sendiri, terdapat 3 kelas yang berbeda yang menunjukkan sentimen dari suatu text, yaitu :\n",
        "- positive\n",
        "- neutral\n",
        "- negative"
      ]
    },
    {
      "cell_type": "code",
      "execution_count": 3,
      "metadata": {
        "id": "FHdwg6WCwhnI"
      },
      "outputs": [],
      "source": [
        "column_names = ['text', 'label']\n",
        "train_data = pd.read_csv('train_preprocess.tsv', sep='\\t', header=None, names=column_names)\n",
        "test_data = pd.read_csv('test_preprocess.tsv', sep='\\t', header=None, names=column_names)"
      ]
    },
    {
      "cell_type": "code",
      "execution_count": 4,
      "metadata": {
        "colab": {
          "base_uri": "https://localhost:8080/",
          "height": 423
        },
        "id": "DHQxRTc6x3G0",
        "outputId": "46629d71-11e1-4c97-f517-2b15dde12cdf"
      },
      "outputs": [
        {
          "data": {
            "text/html": [
              "<div>\n",
              "<style scoped>\n",
              "    .dataframe tbody tr th:only-of-type {\n",
              "        vertical-align: middle;\n",
              "    }\n",
              "\n",
              "    .dataframe tbody tr th {\n",
              "        vertical-align: top;\n",
              "    }\n",
              "\n",
              "    .dataframe thead th {\n",
              "        text-align: right;\n",
              "    }\n",
              "</style>\n",
              "<table border=\"1\" class=\"dataframe\">\n",
              "  <thead>\n",
              "    <tr style=\"text-align: right;\">\n",
              "      <th></th>\n",
              "      <th>text</th>\n",
              "      <th>label</th>\n",
              "    </tr>\n",
              "  </thead>\n",
              "  <tbody>\n",
              "    <tr>\n",
              "      <th>0</th>\n",
              "      <td>warung ini dimiliki oleh pengusaha pabrik tahu...</td>\n",
              "      <td>positive</td>\n",
              "    </tr>\n",
              "    <tr>\n",
              "      <th>1</th>\n",
              "      <td>mohon ulama lurus dan k212 mmbri hujjah partai...</td>\n",
              "      <td>neutral</td>\n",
              "    </tr>\n",
              "    <tr>\n",
              "      <th>2</th>\n",
              "      <td>lokasi strategis di jalan sumatera bandung . t...</td>\n",
              "      <td>positive</td>\n",
              "    </tr>\n",
              "    <tr>\n",
              "      <th>3</th>\n",
              "      <td>betapa bahagia nya diri ini saat unboxing pake...</td>\n",
              "      <td>positive</td>\n",
              "    </tr>\n",
              "    <tr>\n",
              "      <th>4</th>\n",
              "      <td>duh . jadi mahasiswa jangan sombong dong . kas...</td>\n",
              "      <td>negative</td>\n",
              "    </tr>\n",
              "    <tr>\n",
              "      <th>...</th>\n",
              "      <td>...</td>\n",
              "      <td>...</td>\n",
              "    </tr>\n",
              "    <tr>\n",
              "      <th>10995</th>\n",
              "      <td>tidak kecewa</td>\n",
              "      <td>positive</td>\n",
              "    </tr>\n",
              "    <tr>\n",
              "      <th>10996</th>\n",
              "      <td>enak rasa masakan nya apalagi kepiting yang me...</td>\n",
              "      <td>positive</td>\n",
              "    </tr>\n",
              "    <tr>\n",
              "      <th>10997</th>\n",
              "      <td>hormati partai-partai yang telah berkoalisi</td>\n",
              "      <td>neutral</td>\n",
              "    </tr>\n",
              "    <tr>\n",
              "      <th>10998</th>\n",
              "      <td>pagi pagi di tol pasteur sudah macet parah , b...</td>\n",
              "      <td>negative</td>\n",
              "    </tr>\n",
              "    <tr>\n",
              "      <th>10999</th>\n",
              "      <td>meskipun sering belanja ke yogya di riau junct...</td>\n",
              "      <td>positive</td>\n",
              "    </tr>\n",
              "  </tbody>\n",
              "</table>\n",
              "<p>11000 rows × 2 columns</p>\n",
              "</div>"
            ],
            "text/plain": [
              "                                                    text     label\n",
              "0      warung ini dimiliki oleh pengusaha pabrik tahu...  positive\n",
              "1      mohon ulama lurus dan k212 mmbri hujjah partai...   neutral\n",
              "2      lokasi strategis di jalan sumatera bandung . t...  positive\n",
              "3      betapa bahagia nya diri ini saat unboxing pake...  positive\n",
              "4      duh . jadi mahasiswa jangan sombong dong . kas...  negative\n",
              "...                                                  ...       ...\n",
              "10995                                       tidak kecewa  positive\n",
              "10996  enak rasa masakan nya apalagi kepiting yang me...  positive\n",
              "10997        hormati partai-partai yang telah berkoalisi   neutral\n",
              "10998  pagi pagi di tol pasteur sudah macet parah , b...  negative\n",
              "10999  meskipun sering belanja ke yogya di riau junct...  positive\n",
              "\n",
              "[11000 rows x 2 columns]"
            ]
          },
          "execution_count": 4,
          "metadata": {},
          "output_type": "execute_result"
        }
      ],
      "source": [
        "train_data"
      ]
    },
    {
      "cell_type": "code",
      "execution_count": 5,
      "metadata": {
        "colab": {
          "base_uri": "https://localhost:8080/",
          "height": 614
        },
        "collapsed": true,
        "id": "OMii3qLFx0fm",
        "outputId": "2e244800-acce-4b3f-d74e-3de8404fb248"
      },
      "outputs": [
        {
          "data": {
            "text/html": [
              "<div>\n",
              "<style scoped>\n",
              "    .dataframe tbody tr th:only-of-type {\n",
              "        vertical-align: middle;\n",
              "    }\n",
              "\n",
              "    .dataframe tbody tr th {\n",
              "        vertical-align: top;\n",
              "    }\n",
              "\n",
              "    .dataframe thead th {\n",
              "        text-align: right;\n",
              "    }\n",
              "</style>\n",
              "<table border=\"1\" class=\"dataframe\">\n",
              "  <thead>\n",
              "    <tr style=\"text-align: right;\">\n",
              "      <th></th>\n",
              "      <th>text</th>\n",
              "      <th>label</th>\n",
              "    </tr>\n",
              "  </thead>\n",
              "  <tbody>\n",
              "    <tr>\n",
              "      <th>0</th>\n",
              "      <td>kemarin gue datang ke tempat makan baru yang a...</td>\n",
              "      <td>negative</td>\n",
              "    </tr>\n",
              "    <tr>\n",
              "      <th>1</th>\n",
              "      <td>kayak nya sih gue tidak akan mau balik lagi ke...</td>\n",
              "      <td>negative</td>\n",
              "    </tr>\n",
              "    <tr>\n",
              "      <th>2</th>\n",
              "      <td>kalau dipikir-pikir , sebenarnya tidak ada yan...</td>\n",
              "      <td>negative</td>\n",
              "    </tr>\n",
              "    <tr>\n",
              "      <th>3</th>\n",
              "      <td>ini pertama kalinya gua ke bank buat ngurusin ...</td>\n",
              "      <td>negative</td>\n",
              "    </tr>\n",
              "    <tr>\n",
              "      <th>4</th>\n",
              "      <td>waktu sampai dengan gue pernah disuruh ibu lat...</td>\n",
              "      <td>negative</td>\n",
              "    </tr>\n",
              "    <tr>\n",
              "      <th>...</th>\n",
              "      <td>...</td>\n",
              "      <td>...</td>\n",
              "    </tr>\n",
              "    <tr>\n",
              "      <th>495</th>\n",
              "      <td>kata nya tidur yang baik itu minimal enam jam ...</td>\n",
              "      <td>neutral</td>\n",
              "    </tr>\n",
              "    <tr>\n",
              "      <th>496</th>\n",
              "      <td>indonesia itu ada di benua asia .</td>\n",
              "      <td>neutral</td>\n",
              "    </tr>\n",
              "    <tr>\n",
              "      <th>497</th>\n",
              "      <td>salah satu kegemaran anak remaja indonesia sek...</td>\n",
              "      <td>neutral</td>\n",
              "    </tr>\n",
              "    <tr>\n",
              "      <th>498</th>\n",
              "      <td>melihat warna hijau bisa bikin mata jadi lebih...</td>\n",
              "      <td>positive</td>\n",
              "    </tr>\n",
              "    <tr>\n",
              "      <th>499</th>\n",
              "      <td>bondan winarno yang suka bilang maknyus sekara...</td>\n",
              "      <td>neutral</td>\n",
              "    </tr>\n",
              "  </tbody>\n",
              "</table>\n",
              "<p>500 rows × 2 columns</p>\n",
              "</div>"
            ],
            "text/plain": [
              "                                                  text     label\n",
              "0    kemarin gue datang ke tempat makan baru yang a...  negative\n",
              "1    kayak nya sih gue tidak akan mau balik lagi ke...  negative\n",
              "2    kalau dipikir-pikir , sebenarnya tidak ada yan...  negative\n",
              "3    ini pertama kalinya gua ke bank buat ngurusin ...  negative\n",
              "4    waktu sampai dengan gue pernah disuruh ibu lat...  negative\n",
              "..                                                 ...       ...\n",
              "495  kata nya tidur yang baik itu minimal enam jam ...   neutral\n",
              "496                  indonesia itu ada di benua asia .   neutral\n",
              "497  salah satu kegemaran anak remaja indonesia sek...   neutral\n",
              "498  melihat warna hijau bisa bikin mata jadi lebih...  positive\n",
              "499  bondan winarno yang suka bilang maknyus sekara...   neutral\n",
              "\n",
              "[500 rows x 2 columns]"
            ]
          },
          "execution_count": 5,
          "metadata": {},
          "output_type": "execute_result"
        }
      ],
      "source": [
        "test_data"
      ]
    },
    {
      "cell_type": "markdown",
      "metadata": {
        "id": "ugZezHeLYDbj"
      },
      "source": [
        "---\n",
        "# **Preprocessing Data**\n",
        "\n",
        "Pada tahap ini, akan dilakukan **preprocessing data** agar nantinya data text akan lebih siap untuk dianalisis. Tahap preprocessing ini terbagi menjadi beberapa tahap, yaitu :\n",
        "\n",
        "- Menghapus Stopword\n",
        "- Melakukan Stemming\n",
        "- Membersihkan text (Detail terlihat pada syntax)\n",
        "- Menghapus Stopword\n",
        "\n",
        "Proses Preprocessing data ini diaplikasikan di `data train` dan juga `data test`"
      ]
    },
    {
      "cell_type": "code",
      "execution_count": 6,
      "metadata": {
        "id": "K6ZKVPCJYQRP"
      },
      "outputs": [
        {
          "name": "stderr",
          "output_type": "stream",
          "text": [
            "<>:15: SyntaxWarning: invalid escape sequence '\\S'\n",
            "<>:19: SyntaxWarning: invalid escape sequence '\\['\n",
            "<>:20: SyntaxWarning: invalid escape sequence '\\s'\n",
            "<>:22: SyntaxWarning: invalid escape sequence '\\s'\n",
            "<>:15: SyntaxWarning: invalid escape sequence '\\S'\n",
            "<>:19: SyntaxWarning: invalid escape sequence '\\['\n",
            "<>:20: SyntaxWarning: invalid escape sequence '\\s'\n",
            "<>:22: SyntaxWarning: invalid escape sequence '\\s'\n",
            "C:\\Users\\celle\\AppData\\Local\\Temp\\ipykernel_26320\\962136103.py:15: SyntaxWarning: invalid escape sequence '\\S'\n",
            "  temp = re.sub(\"@\\S+\",\"\", temp)                # Remove mentions\n",
            "C:\\Users\\celle\\AppData\\Local\\Temp\\ipykernel_26320\\962136103.py:19: SyntaxWarning: invalid escape sequence '\\['\n",
            "  temp = re.sub(\"\\[.*?\\]\",\"\", temp)             # Remove text inside square brackets\n",
            "C:\\Users\\celle\\AppData\\Local\\Temp\\ipykernel_26320\\962136103.py:20: SyntaxWarning: invalid escape sequence '\\s'\n",
            "  temp = re.sub(\"[^a-z0-9\\s]\", \"\", temp)        # Remove non-alphanumeric characters (preserve spaces)\n",
            "C:\\Users\\celle\\AppData\\Local\\Temp\\ipykernel_26320\\962136103.py:22: SyntaxWarning: invalid escape sequence '\\s'\n",
            "  temp = re.sub('\\s+', ' ', temp).strip()       # Replace multiple spaces with a single space and strip leading/trailing spaces\n"
          ]
        }
      ],
      "source": [
        "stopword_factory = StopWordRemoverFactory()\n",
        "stopword_remover = stopword_factory.create_stop_word_remover()\n",
        "stop_words = set(stopwords.words('indonesian'))\n",
        "factory = StopWordRemoverFactory()\n",
        "stop_words_sastrawi = set(factory.get_stop_words())\n",
        "stop_words = stop_words.union(stop_words_sastrawi)\n",
        "stemmer_factory = StemmerFactory()\n",
        "stemmer = stemmer_factory.create_stemmer()\n",
        "\n",
        "def clean_text(text):\n",
        "    if type(text) == float:\n",
        "        return \"\"\n",
        "    temp = text.lower()\n",
        "    temp = re.sub(r'^RT\\s+', '', temp, flags=re.IGNORECASE).strip()\n",
        "    temp = re.sub(\"@\\S+\",\"\", temp)                # Remove mentions\n",
        "    temp = re.sub(\"#[A-Za-z0-9_]+\",\"\", temp)      # Remove hashtags\n",
        "    temp = re.sub(r\"https\\S+\",\"\", temp)           # Remove URLs\n",
        "    temp = re.sub('[()!?]', '', temp)             # Remove specific punctuations\n",
        "    temp = re.sub(\"\\[.*?\\]\",\"\", temp)             # Remove text inside square brackets\n",
        "    temp = re.sub(\"[^a-z0-9\\s]\", \"\", temp)        # Remove non-alphanumeric characters (preserve spaces)\n",
        "    temp = re.sub(r'[0-9]', '', temp)             # Remove digits\n",
        "    temp = re.sub('\\s+', ' ', temp).strip()       # Replace multiple spaces with a single space and strip leading/trailing spaces\n",
        "    temp = ' '.join([word for word in temp.split() if word not in stop_words])\n",
        "    temp = stemmer.stem(temp)\n",
        "    return temp\n",
        "\n",
        "train_data['clean'] = train_data['text'].apply(lambda x: clean_text(x))\n",
        "test_data['clean'] = test_data['text'].apply(lambda x: clean_text(x))"
      ]
    },
    {
      "cell_type": "markdown",
      "metadata": {
        "id": "T1EchpGRYAr8"
      },
      "source": [
        "---\n",
        "# **TF-IDF**\n",
        "\n",
        "Tahap ini adalah proses mengubah text menjadi representassi numerik atau vektorisasi menggunakan metode `TF-IDF`. Pengaplikasian **TF-IDF** hanya akan diaplikasikan ke data X saja, bukan ke data y. Terlihat juga pada distribusi label terjadi ketidakseimbangan data dengan label **positive** paling banyak dan label **neutral** paling sedikit."
      ]
    },
    {
      "cell_type": "code",
      "execution_count": 7,
      "metadata": {
        "id": "cI9nL432N_hp"
      },
      "outputs": [],
      "source": [
        "X_train, y_train = train_data['clean'], train_data['label']\n",
        "X_test, y_test = test_data['clean'], test_data['label']\n",
        "tfidf_vectorizer = TfidfVectorizer()\n",
        "X_train_tfidf = tfidf_vectorizer.fit_transform(X_train)\n",
        "X_test_tfidf = tfidf_vectorizer.transform(X_test)"
      ]
    },
    {
      "cell_type": "code",
      "execution_count": 8,
      "metadata": {
        "colab": {
          "base_uri": "https://localhost:8080/"
        },
        "id": "fWFDnTi-Ov5f",
        "outputId": "d771bb4e-db3b-482c-fa9a-b5bb005228e9"
      },
      "outputs": [
        {
          "name": "stdout",
          "output_type": "stream",
          "text": [
            "Distribusi label:\n",
            " label\n",
            "positive    6416\n",
            "negative    3436\n",
            "neutral     1148\n",
            "Name: count, dtype: int64\n"
          ]
        }
      ],
      "source": [
        "print(\"Distribusi label:\\n\", y_train.value_counts())"
      ]
    },
    {
      "cell_type": "markdown",
      "metadata": {
        "id": "CxQK_9S-zrlJ"
      },
      "source": [
        "---\n",
        "# **Machine Learning Modeling**\n",
        "\n",
        "Pada proses `modeling`, akan ada 3 tahap, yaitu :\n",
        "- Pembuatan fungsi untuk ketiga model (SVM, Rule-Based Classifier, GBDT)\n",
        "- Melakukan Modeling dan Evaluating pada dataset\n",
        "- Mengetahu metrik evaluasi dari setiap model menggunakan Confusion Matrix\n",
        "\n",
        "Training pada setiap model akan berjalan lama hingga **3 Jam** dikarenakan terdapat **Hyperparameter Tuning** pada setiap modelnya untuk mencari Hyperparameter terbaik dari setiap modelnya."
      ]
    },
    {
      "cell_type": "markdown",
      "metadata": {},
      "source": [
        "---\n",
        "## **Function Definition**"
      ]
    },
    {
      "cell_type": "code",
      "execution_count": 9,
      "metadata": {},
      "outputs": [],
      "source": [
        "class BaseModel(ABC):\n",
        "    def __init__(self, name):\n",
        "        self.name = name\n",
        "        self.best_params = None\n",
        "        self.model = None\n",
        "\n",
        "    @abstractmethod\n",
        "    def tune(self, X_train, y_train):\n",
        "        pass\n",
        "\n",
        "    @abstractmethod\n",
        "    def train(self, X_train, y_train):\n",
        "        pass\n",
        "\n",
        "    def evaluate(self, X_test, y_test):\n",
        "        y_pred = self.model.predict(X_test)\n",
        "        accuracy = accuracy_score(y_test, y_pred)\n",
        "        report = classification_report(y_test, y_pred)\n",
        "        return accuracy, report"
      ]
    },
    {
      "cell_type": "code",
      "execution_count": 10,
      "metadata": {},
      "outputs": [],
      "source": [
        "class SVMModel(BaseModel):\n",
        "    def __init__(self):\n",
        "        super().__init__('SVM')\n",
        "\n",
        "    def tune(self, X_train, y_train):\n",
        "        def objective(trial):\n",
        "            C = trial.suggest_float('C', 1e-3, 1e3, log=True)\n",
        "            kernel = trial.suggest_categorical('kernel', ['linear', 'poly', 'rbf', 'sigmoid'])\n",
        "            gamma = trial.suggest_float('gamma', 1e-4, 1e1, log=True)\n",
        "            degree = trial.suggest_int('degree', 2, 5) if kernel == 'poly' else 3\n",
        "\n",
        "            model = SVC(C=C, kernel=kernel, gamma=gamma, degree=degree, random_state=42)\n",
        "            score = cross_val_score(model, X_train, y_train, cv=3, scoring='accuracy')\n",
        "            return score.mean()\n",
        "\n",
        "        study = optuna.create_study(direction='maximize')\n",
        "        study.optimize(objective, n_trials=30)\n",
        "        self.best_params = study.best_params\n",
        "\n",
        "    def train(self, X_train, y_train):\n",
        "        self.model = SVC(**self.best_params, random_state=42)\n",
        "        self.model.fit(X_train, y_train)\n"
      ]
    },
    {
      "cell_type": "code",
      "execution_count": 11,
      "metadata": {},
      "outputs": [],
      "source": [
        "from sklearn.ensemble import HistGradientBoostingClassifier\n",
        "from sklearn.model_selection import cross_val_score\n",
        "\n",
        "class GBDTModel(BaseModel):\n",
        "    def __init__(self):\n",
        "        super().__init__('GBDT')\n",
        "\n",
        "    def _convert_to_dense(self, X):\n",
        "        \"\"\"\n",
        "        Convert sparse matrix to dense if necessary.\n",
        "        \"\"\"\n",
        "        return X.toarray() if hasattr(X, \"toarray\") else X\n",
        "\n",
        "    def tune(self, X_train, y_train):\n",
        "        \"\"\"\n",
        "        Tune the HistGradientBoostingClassifier using Optuna.\n",
        "        \"\"\"\n",
        "        def objective(trial):\n",
        "            # Convert sparse to dense\n",
        "            X_train_dense = self._convert_to_dense(X_train)\n",
        "\n",
        "            # Hyperparameter tuning\n",
        "            learning_rate = trial.suggest_float('learning_rate', 0.01, 0.1, log=True)\n",
        "            max_depth = trial.suggest_int('max_depth', 3, 10)\n",
        "            max_iter = trial.suggest_int('max_iter', 50, 200)\n",
        "\n",
        "            model = HistGradientBoostingClassifier(\n",
        "                learning_rate=learning_rate, max_depth=max_depth, max_iter=max_iter, random_state=42\n",
        "            )\n",
        "            score = cross_val_score(model, X_train_dense, y_train, cv=3, scoring='accuracy')\n",
        "            return score.mean()\n",
        "\n",
        "        # Create and run the Optuna study\n",
        "        study = optuna.create_study(direction='maximize')\n",
        "        study.optimize(objective, n_trials=30)\n",
        "\n",
        "        # Save the best parameters\n",
        "        self.best_params = study.best_params\n",
        "        print(f\"Best parameters for GBDT: {self.best_params}\")\n",
        "\n",
        "    def train(self, X_train, y_train):\n",
        "        \"\"\"\n",
        "        Train the HistGradientBoostingClassifier with the best parameters.\n",
        "        \"\"\"\n",
        "        # Convert sparse to dense\n",
        "        X_train_dense = self._convert_to_dense(X_train)\n",
        "\n",
        "        # Initialize and fit the model\n",
        "        self.model = HistGradientBoostingClassifier(**self.best_params, random_state=42)\n",
        "        self.model.fit(X_train_dense, y_train)\n",
        "\n",
        "    def evaluate(self, X_test, y_test):\n",
        "        \"\"\"\n",
        "        Evaluate the model on the test set.\n",
        "        \"\"\"\n",
        "        # Convert sparse to dense\n",
        "        X_test_dense = self._convert_to_dense(X_test)\n",
        "\n",
        "        # Predict and calculate accuracy and classification report\n",
        "        y_pred = self.model.predict(X_test_dense)\n",
        "        accuracy = accuracy_score(y_test, y_pred)\n",
        "        report = classification_report(y_test, y_pred)\n",
        "        return accuracy, report\n"
      ]
    },
    {
      "cell_type": "code",
      "execution_count": 12,
      "metadata": {},
      "outputs": [],
      "source": [
        "class RuleBasedModel(BaseModel):\n",
        "    def __init__(self):\n",
        "        super().__init__('Rule-Based')\n",
        "\n",
        "    def tune(self, X_train, y_train):\n",
        "        \"\"\"\n",
        "        Tune the DummyClassifier to select the best strategy.\n",
        "        \"\"\"\n",
        "        def objective(trial):\n",
        "            # Suggest a strategy to evaluate\n",
        "            strategy = trial.suggest_categorical(\n",
        "                'strategy', ['most_frequent', 'prior', 'stratified', 'uniform']\n",
        "            )\n",
        "            # Create and evaluate the model\n",
        "            model = DummyClassifier(strategy=strategy)\n",
        "            score = cross_val_score(model, X_train, y_train, cv=3, scoring='accuracy')\n",
        "            return score.mean()\n",
        "\n",
        "        # Use Optuna to find the best strategy\n",
        "        study = optuna.create_study(direction='maximize')\n",
        "        study.optimize(objective, n_trials=30)  # Limited trials since it's lightweight\n",
        "\n",
        "        # Save the best parameters\n",
        "        self.best_params = {'strategy': study.best_params['strategy']}\n",
        "        print(f\"Best strategy for Rule-Based: {self.best_params['strategy']}\")\n",
        "\n",
        "    def train(self, X_train, y_train):\n",
        "        \"\"\"\n",
        "        Train the DummyClassifier with the selected strategy.\n",
        "        \"\"\"\n",
        "        self.model = DummyClassifier(strategy=self.best_params['strategy'])\n",
        "        self.model.fit(X_train, y_train)"
      ]
    },
    {
      "cell_type": "code",
      "execution_count": 13,
      "metadata": {},
      "outputs": [],
      "source": [
        "async def process_model(model, X_train, y_train, X_test, y_test):\n",
        "    print(f\"Tuning {model.name}...\")\n",
        "    await asyncio.to_thread(model.tune, X_train, y_train)\n",
        "    print(f\"Best parameters for {model.name}: {model.best_params}\")\n",
        "\n",
        "    print(f\"Training {model.name}...\")\n",
        "    await asyncio.to_thread(model.train, X_train, y_train)\n",
        "\n",
        "    print(f\"Evaluating {model.name}...\")\n",
        "    accuracy, report = model.evaluate(X_test, y_test)\n",
        "    print(f\"Accuracy for {model.name}: {accuracy}\")\n",
        "    print(report)\n",
        "    return model.name, accuracy\n",
        "\n",
        "async def main(models, X_train, y_train, X_test, y_test):\n",
        "    tasks = [process_model(model, X_train, y_train, X_test, y_test) for model in models]\n",
        "    results = await asyncio.gather(*tasks)\n",
        "    return results\n"
      ]
    },
    {
      "cell_type": "markdown",
      "metadata": {},
      "source": [
        "---\n",
        "## **Modeling and Evaluating**"
      ]
    },
    {
      "cell_type": "code",
      "execution_count": null,
      "metadata": {},
      "outputs": [
        {
          "name": "stderr",
          "output_type": "stream",
          "text": [
            "[I 2024-12-25 18:31:25,830] A new study created in memory with name: no-name-c1d629fe-378e-4de8-8ca4-bd622d7b9cd2\n"
          ]
        },
        {
          "name": "stderr",
          "output_type": "stream",
          "text": [
            "[I 2024-12-25 18:31:25,857] A new study created in memory with name: no-name-817108e1-4b93-44d1-a82d-fbabf0af36a6\n",
            "[I 2024-12-25 18:31:25,861] A new study created in memory with name: no-name-b1a53462-d8e9-4862-981f-96d3ae17f9b4\n",
            "[I 2024-12-25 18:31:25,897] Trial 0 finished with value: 0.44372775117949154 and parameters: {'strategy': 'stratified'}. Best is trial 0 with value: 0.44372775117949154.\n"
          ]
        },
        {
          "name": "stdout",
          "output_type": "stream",
          "text": [
            "Tuning SVM...\n",
            "Tuning GBDT...\n",
            "Tuning Rule-Based...\n"
          ]
        },
        {
          "name": "stderr",
          "output_type": "stream",
          "text": [
            "[I 2024-12-25 18:31:25,970] Trial 1 finished with value: 0.44327225521778435 and parameters: {'strategy': 'stratified'}. Best is trial 0 with value: 0.44372775117949154.\n",
            "[I 2024-12-25 18:31:25,988] Trial 2 finished with value: 0.4486362222786571 and parameters: {'strategy': 'stratified'}. Best is trial 2 with value: 0.4486362222786571.\n",
            "[I 2024-12-25 18:31:26,008] Trial 3 finished with value: 0.45054543719752105 and parameters: {'strategy': 'stratified'}. Best is trial 3 with value: 0.45054543719752105.\n",
            "[I 2024-12-25 18:31:26,025] Trial 4 finished with value: 0.4495456272809202 and parameters: {'strategy': 'stratified'}. Best is trial 3 with value: 0.45054543719752105.\n",
            "[I 2024-12-25 18:31:26,044] Trial 5 finished with value: 0.44490732950776235 and parameters: {'strategy': 'stratified'}. Best is trial 3 with value: 0.45054543719752105.\n",
            "[I 2024-12-25 18:31:26,061] Trial 6 finished with value: 0.5832727203840468 and parameters: {'strategy': 'most_frequent'}. Best is trial 6 with value: 0.5832727203840468.\n",
            "[I 2024-12-25 18:31:26,080] Trial 7 finished with value: 0.33590942707038535 and parameters: {'strategy': 'uniform'}. Best is trial 6 with value: 0.5832727203840468.\n",
            "[I 2024-12-25 18:31:26,098] Trial 8 finished with value: 0.3374542700155265 and parameters: {'strategy': 'uniform'}. Best is trial 6 with value: 0.5832727203840468.\n",
            "[I 2024-12-25 18:31:26,116] Trial 9 finished with value: 0.3361809145654715 and parameters: {'strategy': 'uniform'}. Best is trial 6 with value: 0.5832727203840468.\n",
            "[I 2024-12-25 18:31:26,134] Trial 10 finished with value: 0.5832727203840468 and parameters: {'strategy': 'most_frequent'}. Best is trial 6 with value: 0.5832727203840468.\n",
            "[I 2024-12-25 18:31:26,153] Trial 11 finished with value: 0.5832727203840468 and parameters: {'strategy': 'most_frequent'}. Best is trial 6 with value: 0.5832727203840468.\n",
            "[I 2024-12-25 18:31:26,170] Trial 12 finished with value: 0.5832727203840468 and parameters: {'strategy': 'most_frequent'}. Best is trial 6 with value: 0.5832727203840468.\n",
            "[I 2024-12-25 18:31:26,189] Trial 13 finished with value: 0.5832727203840468 and parameters: {'strategy': 'most_frequent'}. Best is trial 6 with value: 0.5832727203840468.\n",
            "[I 2024-12-25 18:31:26,207] Trial 14 finished with value: 0.5832727203840468 and parameters: {'strategy': 'prior'}. Best is trial 6 with value: 0.5832727203840468.\n",
            "[I 2024-12-25 18:31:26,225] Trial 15 finished with value: 0.5832727203840468 and parameters: {'strategy': 'most_frequent'}. Best is trial 6 with value: 0.5832727203840468.\n",
            "[I 2024-12-25 18:31:26,243] Trial 16 finished with value: 0.5832727203840468 and parameters: {'strategy': 'most_frequent'}. Best is trial 6 with value: 0.5832727203840468.\n",
            "[I 2024-12-25 18:31:26,260] Trial 17 finished with value: 0.5832727203840468 and parameters: {'strategy': 'prior'}. Best is trial 6 with value: 0.5832727203840468.\n",
            "[I 2024-12-25 18:31:26,278] Trial 18 finished with value: 0.5832727203840468 and parameters: {'strategy': 'most_frequent'}. Best is trial 6 with value: 0.5832727203840468.\n",
            "[I 2024-12-25 18:31:26,295] Trial 19 finished with value: 0.5832727203840468 and parameters: {'strategy': 'most_frequent'}. Best is trial 6 with value: 0.5832727203840468.\n",
            "[I 2024-12-25 18:31:26,313] Trial 20 finished with value: 0.5832727203840468 and parameters: {'strategy': 'most_frequent'}. Best is trial 6 with value: 0.5832727203840468.\n",
            "[I 2024-12-25 18:31:26,330] Trial 21 finished with value: 0.5832727203840468 and parameters: {'strategy': 'most_frequent'}. Best is trial 6 with value: 0.5832727203840468.\n",
            "[I 2024-12-25 18:31:26,348] Trial 22 finished with value: 0.5832727203840468 and parameters: {'strategy': 'most_frequent'}. Best is trial 6 with value: 0.5832727203840468.\n",
            "[I 2024-12-25 18:31:26,369] Trial 23 finished with value: 0.5832727203840468 and parameters: {'strategy': 'most_frequent'}. Best is trial 6 with value: 0.5832727203840468.\n",
            "[I 2024-12-25 18:31:26,386] Trial 24 finished with value: 0.5832727203840468 and parameters: {'strategy': 'prior'}. Best is trial 6 with value: 0.5832727203840468.\n",
            "[I 2024-12-25 18:31:26,404] Trial 25 finished with value: 0.5832727203840468 and parameters: {'strategy': 'most_frequent'}. Best is trial 6 with value: 0.5832727203840468.\n",
            "[I 2024-12-25 18:31:26,433] Trial 26 finished with value: 0.5832727203840468 and parameters: {'strategy': 'most_frequent'}. Best is trial 6 with value: 0.5832727203840468.\n",
            "[I 2024-12-25 18:31:26,486] Trial 27 finished with value: 0.5832727203840468 and parameters: {'strategy': 'most_frequent'}. Best is trial 6 with value: 0.5832727203840468.\n",
            "[I 2024-12-25 18:31:26,545] Trial 28 finished with value: 0.5832727203840468 and parameters: {'strategy': 'most_frequent'}. Best is trial 6 with value: 0.5832727203840468.\n",
            "[I 2024-12-25 18:31:26,594] Trial 29 finished with value: 0.33300017907413365 and parameters: {'strategy': 'uniform'}. Best is trial 6 with value: 0.5832727203840468.\n",
            "c:\\Users\\celle\\Documents\\DNDT\\venv\\Lib\\site-packages\\sklearn\\metrics\\_classification.py:1565: UndefinedMetricWarning: Precision is ill-defined and being set to 0.0 in labels with no predicted samples. Use `zero_division` parameter to control this behavior.\n",
            "  _warn_prf(average, modifier, f\"{metric.capitalize()} is\", len(result))\n",
            "c:\\Users\\celle\\Documents\\DNDT\\venv\\Lib\\site-packages\\sklearn\\metrics\\_classification.py:1565: UndefinedMetricWarning: Precision is ill-defined and being set to 0.0 in labels with no predicted samples. Use `zero_division` parameter to control this behavior.\n",
            "  _warn_prf(average, modifier, f\"{metric.capitalize()} is\", len(result))\n",
            "c:\\Users\\celle\\Documents\\DNDT\\venv\\Lib\\site-packages\\sklearn\\metrics\\_classification.py:1565: UndefinedMetricWarning: Precision is ill-defined and being set to 0.0 in labels with no predicted samples. Use `zero_division` parameter to control this behavior.\n",
            "  _warn_prf(average, modifier, f\"{metric.capitalize()} is\", len(result))\n"
          ]
        },
        {
          "name": "stdout",
          "output_type": "stream",
          "text": [
            "Best strategy for Rule-Based: most_frequent\n",
            "Best parameters for Rule-Based: {'strategy': 'most_frequent'}\n",
            "Training Rule-Based...\n",
            "Evaluating Rule-Based...\n",
            "Accuracy for Rule-Based: 0.416\n",
            "              precision    recall  f1-score   support\n",
            "\n",
            "    negative       0.00      0.00      0.00       204\n",
            "     neutral       0.00      0.00      0.00        88\n",
            "    positive       0.42      1.00      0.59       208\n",
            "\n",
            "    accuracy                           0.42       500\n",
            "   macro avg       0.14      0.33      0.20       500\n",
            "weighted avg       0.17      0.42      0.24       500\n",
            "\n"
          ]
        },
        {
          "name": "stderr",
          "output_type": "stream",
          "text": [
            "[I 2024-12-25 18:31:49,559] Trial 0 finished with value: 0.5832727203840468 and parameters: {'C': 0.03729904161642435, 'kernel': 'sigmoid', 'gamma': 0.0005638228812140856}. Best is trial 0 with value: 0.5832727203840468.\n",
            "[I 2024-12-25 18:32:16,621] Trial 1 finished with value: 0.5832727203840468 and parameters: {'C': 0.004423196431533216, 'kernel': 'linear', 'gamma': 0.0006439605815368789}. Best is trial 0 with value: 0.5832727203840468.\n",
            "[I 2024-12-25 18:32:41,330] Trial 2 finished with value: 0.5832727203840468 and parameters: {'C': 0.0034878401911191672, 'kernel': 'sigmoid', 'gamma': 0.00012665804650277226}. Best is trial 0 with value: 0.5832727203840468.\n",
            "[I 2024-12-25 18:33:09,430] Trial 3 finished with value: 0.5832727203840468 and parameters: {'C': 0.9022082659302042, 'kernel': 'sigmoid', 'gamma': 0.0009410598472952621}. Best is trial 0 with value: 0.5832727203840468.\n",
            "[I 2024-12-25 18:33:28,039] Trial 4 finished with value: 0.8456361379238796 and parameters: {'C': 0.799322399086625, 'kernel': 'linear', 'gamma': 0.000519086505911013}. Best is trial 4 with value: 0.8456361379238796.\n",
            "[I 2024-12-25 18:33:53,160] Trial 5 finished with value: 0.5832727203840468 and parameters: {'C': 0.006146881549214456, 'kernel': 'rbf', 'gamma': 0.0005000713428070522}. Best is trial 4 with value: 0.8456361379238796.\n",
            "[I 2024-12-25 18:34:17,031] Trial 6 finished with value: 0.5832727203840468 and parameters: {'C': 572.9655127755025, 'kernel': 'poly', 'gamma': 0.025110254305127012, 'degree': 4}. Best is trial 4 with value: 0.8456361379238796.\n",
            "[I 2024-12-25 18:34:37,275] Trial 7 finished with value: 0.7891812691927576 and parameters: {'C': 46.253583008782634, 'kernel': 'linear', 'gamma': 0.00015880226986312695}. Best is trial 4 with value: 0.8456361379238796.\n",
            "[I 2024-12-25 18:35:14,884] Trial 8 finished with value: 0.7782716078035459 and parameters: {'C': 22.668849789829643, 'kernel': 'poly', 'gamma': 6.049928289780659, 'degree': 2}. Best is trial 4 with value: 0.8456361379238796.\n",
            "[I 2024-12-25 18:36:04,499] Trial 9 finished with value: 0.43535550232426923 and parameters: {'C': 315.78211313505693, 'kernel': 'poly', 'gamma': 2.170984900071063, 'degree': 4}. Best is trial 4 with value: 0.8456361379238796.\n",
            "[I 2024-12-25 18:36:23,823] Trial 10 finished with value: 0.848454137953932 and parameters: {'C': 0.9342058907746094, 'kernel': 'linear', 'gamma': 0.01486921084615767}. Best is trial 10 with value: 0.848454137953932.\n",
            "[I 2024-12-25 18:36:42,919] Trial 11 finished with value: 0.84063579896744 and parameters: {'C': 0.6408195988074389, 'kernel': 'linear', 'gamma': 0.014169648576913604}. Best is trial 10 with value: 0.848454137953932.\n",
            "[I 2024-12-25 18:37:04,217] Trial 12 finished with value: 0.785454335277659 and parameters: {'C': 0.14774877278335705, 'kernel': 'linear', 'gamma': 0.005009940525488234}. Best is trial 10 with value: 0.848454137953932.\n",
            "[I 2024-12-25 18:37:24,788] Trial 13 finished with value: 0.8191813440755994 and parameters: {'C': 8.52755552709532, 'kernel': 'linear', 'gamma': 0.33156970422248716}. Best is trial 10 with value: 0.848454137953932.\n",
            "[I 2024-12-25 18:37:46,820] Trial 14 finished with value: 0.8478180057330502 and parameters: {'C': 3.289990337172658, 'kernel': 'rbf', 'gamma': 0.17670647274855164}. Best is trial 10 with value: 0.848454137953932.\n",
            "[I 2024-12-25 18:38:09,808] Trial 15 finished with value: 0.848090509849499 and parameters: {'C': 5.424898239377259, 'kernel': 'rbf', 'gamma': 0.17080964632692439}. Best is trial 10 with value: 0.848454137953932.\n",
            "[I 2024-12-25 18:38:24,012] Trial 0 finished with value: 0.8165448977435122 and parameters: {'learning_rate': 0.045088573070639765, 'max_depth': 7, 'max_iter': 184}. Best is trial 0 with value: 0.8165448977435122.\n",
            "[I 2024-12-25 18:38:37,596] Trial 16 finished with value: 0.5873635551556514 and parameters: {'C': 0.06731599705585434, 'kernel': 'rbf', 'gamma': 0.17182940422251833}. Best is trial 10 with value: 0.848454137953932.\n",
            "[I 2024-12-25 18:39:10,839] Trial 17 finished with value: 0.8399994683814143 and parameters: {'C': 56.01615441246057, 'kernel': 'rbf', 'gamma': 0.7859543929887981}. Best is trial 10 with value: 0.848454137953932.\n",
            "[I 2024-12-25 18:39:32,498] Trial 18 finished with value: 0.8235447821462246 and parameters: {'C': 3.7320981873014274, 'kernel': 'rbf', 'gamma': 0.05990705796313266}. Best is trial 10 with value: 0.848454137953932.\n",
            "[I 2024-12-25 18:40:02,159] Trial 19 finished with value: 0.5832727203840468 and parameters: {'C': 0.24361989822086905, 'kernel': 'rbf', 'gamma': 0.0038926213965875104}. Best is trial 10 with value: 0.848454137953932.\n",
            "[I 2024-12-25 18:40:20,166] Trial 1 finished with value: 0.7742725665022864 and parameters: {'learning_rate': 0.032266938722959874, 'max_depth': 4, 'max_iter': 93}. Best is trial 0 with value: 0.8165448977435122.\n",
            "[I 2024-12-25 18:40:22,423] Trial 20 finished with value: 0.7687272441085925 and parameters: {'C': 155.78575629337726, 'kernel': 'linear', 'gamma': 0.06843136405973912}. Best is trial 10 with value: 0.848454137953932.\n",
            "[I 2024-12-25 18:40:44,481] Trial 21 finished with value: 0.8483633611049494 and parameters: {'C': 3.4908786196564816, 'kernel': 'rbf', 'gamma': 0.17381047513372547}. Best is trial 10 with value: 0.848454137953932.\n",
            "[I 2024-12-25 18:41:18,453] Trial 22 finished with value: 0.8409085510403186 and parameters: {'C': 6.7236340538533765, 'kernel': 'rbf', 'gamma': 0.7656572574344603}. Best is trial 10 with value: 0.848454137953932.\n",
            "[I 2024-12-25 18:41:46,986] Trial 23 finished with value: 0.6879085733068059 and parameters: {'C': 1.7563914782211565, 'kernel': 'rbf', 'gamma': 0.008494639143568994}. Best is trial 10 with value: 0.848454137953932.\n",
            "[I 2024-12-25 18:42:16,692] Trial 24 finished with value: 0.5832727203840468 and parameters: {'C': 0.0237588385296474, 'kernel': 'rbf', 'gamma': 0.06404403197183595}. Best is trial 10 with value: 0.848454137953932.\n",
            "[I 2024-12-25 18:42:47,940] Trial 25 finished with value: 0.838726708026791 and parameters: {'C': 15.828047667197987, 'kernel': 'rbf', 'gamma': 0.4182967183002535}. Best is trial 10 with value: 0.848454137953932.\n",
            "[I 2024-12-25 18:43:10,928] Trial 26 finished with value: 0.5832727203840468 and parameters: {'C': 0.36038004416170133, 'kernel': 'poly', 'gamma': 0.0021686052756932665, 'degree': 2}. Best is trial 10 with value: 0.848454137953932.\n",
            "[I 2024-12-25 18:43:37,232] Trial 27 finished with value: 0.5832727203840468 and parameters: {'C': 0.0010413006918946286, 'kernel': 'sigmoid', 'gamma': 0.030610917957310694}. Best is trial 10 with value: 0.848454137953932.\n",
            "[I 2024-12-25 18:44:23,139] Trial 28 finished with value: 0.7971812858554296 and parameters: {'C': 1.9384155107093675, 'kernel': 'rbf', 'gamma': 2.179935586475787}. Best is trial 10 with value: 0.848454137953932.\n",
            "[I 2024-12-25 18:44:51,021] Trial 29 finished with value: 0.5832727203840468 and parameters: {'C': 0.06575078550660057, 'kernel': 'sigmoid', 'gamma': 0.15341614922873126}. Best is trial 10 with value: 0.848454137953932.\n"
          ]
        },
        {
          "name": "stdout",
          "output_type": "stream",
          "text": [
            "Best parameters for SVM: {'C': 0.9342058907746094, 'kernel': 'linear', 'gamma': 0.01486921084615767}\n",
            "Training SVM...\n",
            "Evaluating SVM...\n",
            "Accuracy for SVM: 0.734\n",
            "              precision    recall  f1-score   support\n",
            "\n",
            "    negative       0.68      0.88      0.77       204\n",
            "     neutral       0.72      0.44      0.55        88\n",
            "    positive       0.81      0.72      0.76       208\n",
            "\n",
            "    accuracy                           0.73       500\n",
            "   macro avg       0.74      0.68      0.69       500\n",
            "weighted avg       0.74      0.73      0.73       500\n",
            "\n"
          ]
        },
        {
          "name": "stderr",
          "output_type": "stream",
          "text": [
            "[I 2024-12-25 18:47:52,437] Trial 2 finished with value: 0.7862725419050086 and parameters: {'learning_rate': 0.01576143526646691, 'max_depth': 9, 'max_iter': 122}. Best is trial 0 with value: 0.8165448977435122.\n",
            "[I 2024-12-25 18:53:09,519] Trial 3 finished with value: 0.8203631044204531 and parameters: {'learning_rate': 0.06808285752610349, 'max_depth': 8, 'max_iter': 127}. Best is trial 3 with value: 0.8203631044204531.\n",
            "[I 2024-12-25 18:54:54,158] Trial 4 finished with value: 0.7388180452573051 and parameters: {'learning_rate': 0.011542713125375432, 'max_depth': 4, 'max_iter': 74}. Best is trial 3 with value: 0.8203631044204531.\n",
            "[I 2024-12-25 18:59:39,830] Trial 5 finished with value: 0.8168176994076767 and parameters: {'learning_rate': 0.06339500740731728, 'max_depth': 8, 'max_iter': 109}. Best is trial 3 with value: 0.8203631044204531.\n",
            "[I 2024-12-25 19:02:34,623] Trial 6 finished with value: 0.7740000623858379 and parameters: {'learning_rate': 0.02919357303324603, 'max_depth': 6, 'max_iter': 64}. Best is trial 3 with value: 0.8203631044204531.\n",
            "[I 2024-12-25 19:04:58,400] Trial 7 finished with value: 0.7751819219132635 and parameters: {'learning_rate': 0.03687742466650577, 'max_depth': 6, 'max_iter': 53}. Best is trial 3 with value: 0.8203631044204531.\n",
            "[I 2024-12-25 19:07:01,720] Trial 8 finished with value: 0.8061816331432053 and parameters: {'learning_rate': 0.06807005121982944, 'max_depth': 3, 'max_iter': 183}. Best is trial 3 with value: 0.8203631044204531.\n",
            "[I 2024-12-25 19:07:56,316] Trial 9 finished with value: 0.7729091036856096 and parameters: {'learning_rate': 0.058816434768012675, 'max_depth': 3, 'max_iter': 69}. Best is trial 3 with value: 0.8203631044204531.\n",
            "[I 2024-12-25 19:14:23,814] Trial 10 finished with value: 0.8340904930876443 and parameters: {'learning_rate': 0.09774417501821858, 'max_depth': 10, 'max_iter': 155}. Best is trial 10 with value: 0.8340904930876443.\n",
            "[I 2024-12-25 19:20:54,663] Trial 11 finished with value: 0.831272319488091 and parameters: {'learning_rate': 0.08925344174532648, 'max_depth': 10, 'max_iter': 151}. Best is trial 10 with value: 0.8340904930876443.\n",
            "[I 2024-12-25 19:27:22,082] Trial 12 finished with value: 0.8330902864407556 and parameters: {'learning_rate': 0.09875806282890966, 'max_depth': 10, 'max_iter': 155}. Best is trial 10 with value: 0.8340904930876443.\n",
            "[I 2024-12-25 19:33:47,270] Trial 13 finished with value: 0.8332722120733655 and parameters: {'learning_rate': 0.09930428725321312, 'max_depth': 10, 'max_iter': 154}. Best is trial 10 with value: 0.8340904930876443.\n",
            "[I 2024-12-25 19:42:40,388] Trial 14 finished with value: 0.8026362777217148 and parameters: {'learning_rate': 0.021230460957477118, 'max_depth': 10, 'max_iter': 156}. Best is trial 10 with value: 0.8340904930876443.\n",
            "[I 2024-12-25 19:49:11,712] Trial 15 finished with value: 0.8320904021372257 and parameters: {'learning_rate': 0.099143218372198, 'max_depth': 9, 'max_iter': 172}. Best is trial 10 with value: 0.8340904930876443.\n",
            "[I 2024-12-25 19:55:33,474] Trial 16 finished with value: 0.8189995672168472 and parameters: {'learning_rate': 0.04976386316056127, 'max_depth': 9, 'max_iter': 138}. Best is trial 10 with value: 0.8340904930876443.\n",
            "[I 2024-12-25 20:02:35,415] Trial 17 finished with value: 0.8281812450418012 and parameters: {'learning_rate': 0.07466582593249843, 'max_depth': 8, 'max_iter': 198}. Best is trial 10 with value: 0.8340904930876443.\n",
            "[I 2024-12-25 20:08:10,960] Trial 18 finished with value: 0.8112723770139828 and parameters: {'learning_rate': 0.04474272147955574, 'max_depth': 7, 'max_iter': 141}. Best is trial 10 with value: 0.8340904930876443.\n",
            "[I 2024-12-25 20:17:27,023] Trial 19 finished with value: 0.8065454596127823 and parameters: {'learning_rate': 0.0233553014015691, 'max_depth': 10, 'max_iter': 168}. Best is trial 10 with value: 0.8340904930876443.\n",
            "[I 2024-12-25 20:19:49,074] Trial 20 finished with value: 0.8071816166293071 and parameters: {'learning_rate': 0.07977073790045126, 'max_depth': 5, 'max_iter': 96}. Best is trial 10 with value: 0.8340904930876443.\n",
            "[I 2024-12-25 20:26:27,334] Trial 21 finished with value: 0.8320904517285118 and parameters: {'learning_rate': 0.08981595560497262, 'max_depth': 10, 'max_iter': 157}. Best is trial 10 with value: 0.8340904930876443.\n",
            "[I 2024-12-25 20:32:01,105] Trial 22 finished with value: 0.8302721624324884 and parameters: {'learning_rate': 0.09819563508261162, 'max_depth': 9, 'max_iter': 141}. Best is trial 10 with value: 0.8340904930876443.\n",
            "[I 2024-12-25 20:39:48,144] Trial 23 finished with value: 0.826908360708963 and parameters: {'learning_rate': 0.054901734485839876, 'max_depth': 10, 'max_iter': 170}. Best is trial 10 with value: 0.8340904930876443.\n",
            "[I 2024-12-25 20:45:05,565] Trial 24 finished with value: 0.8244539887833437 and parameters: {'learning_rate': 0.07610166616381264, 'max_depth': 9, 'max_iter': 123}. Best is trial 10 with value: 0.8340904930876443.\n",
            "[I 2024-12-25 20:50:43,592] Trial 25 finished with value: 0.8262721541011523 and parameters: {'learning_rate': 0.08246495770519974, 'max_depth': 8, 'max_iter': 152}. Best is trial 10 with value: 0.8340904930876443.\n",
            "[I 2024-12-25 20:58:46,095] Trial 26 finished with value: 0.8353632782379105 and parameters: {'learning_rate': 0.0976727170592889, 'max_depth': 10, 'max_iter': 199}. Best is trial 26 with value: 0.8353632782379105.\n",
            "[I 2024-12-25 21:07:38,613] Trial 27 finished with value: 0.8224540466067832 and parameters: {'learning_rate': 0.039996981191292434, 'max_depth': 9, 'max_iter': 196}. Best is trial 26 with value: 0.8353632782379105.\n",
            "[I 2024-12-25 21:16:28,967] Trial 28 finished with value: 0.8285448483505914 and parameters: {'learning_rate': 0.055553109992290635, 'max_depth': 10, 'max_iter': 183}. Best is trial 26 with value: 0.8353632782379105.\n",
            "[I 2024-12-25 21:23:44,712] Trial 29 finished with value: 0.828999426873508 and parameters: {'learning_rate': 0.07116188180238031, 'max_depth': 8, 'max_iter': 190}. Best is trial 26 with value: 0.8353632782379105.\n"
          ]
        },
        {
          "name": "stdout",
          "output_type": "stream",
          "text": [
            "Best parameters for GBDT: {'learning_rate': 0.0976727170592889, 'max_depth': 10, 'max_iter': 199}\n",
            "Best parameters for GBDT: {'learning_rate': 0.0976727170592889, 'max_depth': 10, 'max_iter': 199}\n",
            "Training GBDT...\n",
            "Evaluating GBDT...\n",
            "Accuracy for GBDT: 0.71\n",
            "              precision    recall  f1-score   support\n",
            "\n",
            "    negative       0.65      0.88      0.75       204\n",
            "     neutral       0.63      0.31      0.41        88\n",
            "    positive       0.82      0.72      0.77       208\n",
            "\n",
            "    accuracy                           0.71       500\n",
            "   macro avg       0.70      0.63      0.64       500\n",
            "weighted avg       0.72      0.71      0.70       500\n",
            "\n"
          ]
        }
      ],
      "source": [
        "# Instantiate models\n",
        "svm_model = SVMModel()\n",
        "gbdt_model = GBDTModel()\n",
        "rule_based_model = RuleBasedModel()\n",
        "\n",
        "models = [\n",
        "          svm_model, \n",
        "          gbdt_model, \n",
        "          rule_based_model\n",
        "          ]\n",
        "\n",
        "# Run all models asynchronously\n",
        "results = asyncio.run(main(models, X_train_tfidf, y_train, X_test_tfidf, y_test))"
      ]
    },
    {
      "cell_type": "markdown",
      "metadata": {},
      "source": [
        "---\n",
        "## **Save the Result**\n",
        "\n",
        "Tahap ini berfungsi untuk menyimpan hasil **accuracy** untuk setiap model dengan hyperparameter terbaik."
      ]
    },
    {
      "cell_type": "code",
      "execution_count": 17,
      "metadata": {},
      "outputs": [],
      "source": [
        "# Compare Results\n",
        "results_df = pd.DataFrame(results, columns=[\"Model\", \"Accuracy\"])"
      ]
    },
    {
      "cell_type": "code",
      "execution_count": 18,
      "metadata": {},
      "outputs": [],
      "source": [
        "results_df.to_csv(\"results.csv\", index=False)"
      ]
    },
    {
      "cell_type": "markdown",
      "metadata": {},
      "source": [
        "---\n",
        "# **Conclusion**\n",
        "\n",
        "<div align='justify'>\n",
        "&emsp;&emsp;&emsp;&emsp;\n",
        "Berdasarkan hasil analisis sentimen menggunakan tiga model berbeda, yaitu <strong>Rule-Based Classifier</strong>, <strong>Support Vector Machine (SVM)</strong>, dan <strong>Gradient Boosted Decision Tree (GBDT)</strong>, terlihat bahwa <strong><code>SVM</code></strong> memberikan performa terbaik dengan <strong>akurasi 73.4%</strong> dan <strong>F1-Macro 69%</strong>. Model <strong><code>Rule-Based</code></strong> hanya mencapai akurasi 41.6% dengan F1-Macro 20% karena strategi <em>most_frequent</em> cenderung memprediksi kelas mayoritas, sehingga performanya rendah dalam menangani kelas negatif dan netral. Sementara itu, GBDT menunjukkan hasil dengan akurasi 71% dan F1-Macro 64%, menandakan bahwa model ini mampu menangkap pola yang lebih kompleks dibandingkan Rule-Based. Perbedaan performa ini menunjukkan bahwa model berbasis pembelajaran mesin seperti SVM dan GBDT lebih efektif dalam menangani variasi data dan distribusi kelas yang tidak seimbang, dengan SVM memberikan keseimbangan terbaik antara akurasi dan kemampuan generalisasi di ketiga kelas.\n",
        "</div>\n",
        "\n"
      ]
    }
  ],
  "metadata": {
    "colab": {
      "provenance": []
    },
    "kernelspec": {
      "display_name": "venv",
      "language": "python",
      "name": "python3"
    },
    "language_info": {
      "codemirror_mode": {
        "name": "ipython",
        "version": 3
      },
      "file_extension": ".py",
      "mimetype": "text/x-python",
      "name": "python",
      "nbconvert_exporter": "python",
      "pygments_lexer": "ipython3",
      "version": "3.12.6"
    }
  },
  "nbformat": 4,
  "nbformat_minor": 0
}
