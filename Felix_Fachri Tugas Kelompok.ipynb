{
  "cells": [
    {
      "cell_type": "markdown",
      "metadata": {
        "id": "R3ycSvl7ukaA"
      },
      "source": [
        "# **Perbandingan Algoritma Support Vector Machine, Rule-Based Classifier, dan Gradient Boosted Decision Tree dalam Analisis Sentimen**\n",
        "\n",
        "\n",
        "---\n",
        "\n",
        "KELOMPOK REKOGNISI\n",
        "\n",
        "\n",
        "> Fachri Kurniansyah (M0721025)\n",
        "\n",
        "\n",
        "> Felix (M0721028)"
      ]
    },
    {
      "cell_type": "markdown",
      "metadata": {
        "id": "hGsXkQY5s5nC"
      },
      "source": [
        "# Import Library"
      ]
    },
    {
      "cell_type": "code",
      "execution_count": 1,
      "metadata": {
        "colab": {
          "base_uri": "https://localhost:8080/"
        },
        "id": "zLKnBZ6gzk5Q",
        "outputId": "7476e362-7f45-44e8-9719-80664d26468a"
      },
      "outputs": [
        {
          "name": "stderr",
          "output_type": "stream",
          "text": [
            "c:\\Users\\celle\\Documents\\DNDT\\venv\\Lib\\site-packages\\tqdm\\auto.py:21: TqdmWarning: IProgress not found. Please update jupyter and ipywidgets. See https://ipywidgets.readthedocs.io/en/stable/user_install.html\n",
            "  from .autonotebook import tqdm as notebook_tqdm\n"
          ]
        }
      ],
      "source": [
        "import asyncio\n",
        "import matplotlib.pyplot as plt\n",
        "import nest_asyncio\n",
        "import nltk\n",
        "import optuna\n",
        "import pandas as pd\n",
        "import re\n",
        "\n",
        "from abc import ABC, abstractmethod\n",
        "from nltk.corpus import stopwords\n",
        "from Sastrawi.Stemmer.StemmerFactory import StemmerFactory\n",
        "from Sastrawi.StopWordRemover.StopWordRemoverFactory import StopWordRemoverFactory\n",
        "from sklearn.dummy import DummyClassifier\n",
        "from sklearn.ensemble import HistGradientBoostingClassifier\n",
        "from sklearn.feature_extraction.text import TfidfVectorizer\n",
        "from sklearn.metrics import classification_report, accuracy_score\n",
        "from sklearn.model_selection import cross_val_score\n",
        "from sklearn.svm import SVC\n",
        "\n",
        "nest_asyncio.apply()"
      ]
    },
    {
      "cell_type": "code",
      "execution_count": 2,
      "metadata": {
        "id": "LeGcGJ2zxKRU"
      },
      "outputs": [
        {
          "name": "stderr",
          "output_type": "stream",
          "text": [
            "[nltk_data] Downloading package punkt to\n",
            "[nltk_data]     C:\\Users\\celle\\AppData\\Roaming\\nltk_data...\n",
            "[nltk_data]   Package punkt is already up-to-date!\n",
            "[nltk_data] Downloading package stopwords to\n",
            "[nltk_data]     C:\\Users\\celle\\AppData\\Roaming\\nltk_data...\n",
            "[nltk_data]   Package stopwords is already up-to-date!\n"
          ]
        },
        {
          "data": {
            "text/plain": [
              "True"
            ]
          },
          "execution_count": 2,
          "metadata": {},
          "output_type": "execute_result"
        }
      ],
      "source": [
        "nltk.download('punkt')\n",
        "nltk.download('stopwords')"
      ]
    },
    {
      "cell_type": "markdown",
      "metadata": {
        "id": "6tzVTrijtBQK"
      },
      "source": [
        "# Import Data"
      ]
    },
    {
      "cell_type": "code",
      "execution_count": 3,
      "metadata": {
        "id": "FHdwg6WCwhnI"
      },
      "outputs": [],
      "source": [
        "column_names = ['text', 'label']\n",
        "train_data = pd.read_csv('train_preprocess.tsv', sep='\\t', header=None, names=column_names)\n",
        "test_data = pd.read_csv('test_preprocess.tsv', sep='\\t', header=None, names=column_names)"
      ]
    },
    {
      "cell_type": "code",
      "execution_count": 4,
      "metadata": {
        "colab": {
          "base_uri": "https://localhost:8080/",
          "height": 423
        },
        "id": "DHQxRTc6x3G0",
        "outputId": "46629d71-11e1-4c97-f517-2b15dde12cdf"
      },
      "outputs": [
        {
          "data": {
            "text/html": [
              "<div>\n",
              "<style scoped>\n",
              "    .dataframe tbody tr th:only-of-type {\n",
              "        vertical-align: middle;\n",
              "    }\n",
              "\n",
              "    .dataframe tbody tr th {\n",
              "        vertical-align: top;\n",
              "    }\n",
              "\n",
              "    .dataframe thead th {\n",
              "        text-align: right;\n",
              "    }\n",
              "</style>\n",
              "<table border=\"1\" class=\"dataframe\">\n",
              "  <thead>\n",
              "    <tr style=\"text-align: right;\">\n",
              "      <th></th>\n",
              "      <th>text</th>\n",
              "      <th>label</th>\n",
              "    </tr>\n",
              "  </thead>\n",
              "  <tbody>\n",
              "    <tr>\n",
              "      <th>0</th>\n",
              "      <td>warung ini dimiliki oleh pengusaha pabrik tahu...</td>\n",
              "      <td>positive</td>\n",
              "    </tr>\n",
              "    <tr>\n",
              "      <th>1</th>\n",
              "      <td>mohon ulama lurus dan k212 mmbri hujjah partai...</td>\n",
              "      <td>neutral</td>\n",
              "    </tr>\n",
              "    <tr>\n",
              "      <th>2</th>\n",
              "      <td>lokasi strategis di jalan sumatera bandung . t...</td>\n",
              "      <td>positive</td>\n",
              "    </tr>\n",
              "    <tr>\n",
              "      <th>3</th>\n",
              "      <td>betapa bahagia nya diri ini saat unboxing pake...</td>\n",
              "      <td>positive</td>\n",
              "    </tr>\n",
              "    <tr>\n",
              "      <th>4</th>\n",
              "      <td>duh . jadi mahasiswa jangan sombong dong . kas...</td>\n",
              "      <td>negative</td>\n",
              "    </tr>\n",
              "    <tr>\n",
              "      <th>...</th>\n",
              "      <td>...</td>\n",
              "      <td>...</td>\n",
              "    </tr>\n",
              "    <tr>\n",
              "      <th>10995</th>\n",
              "      <td>tidak kecewa</td>\n",
              "      <td>positive</td>\n",
              "    </tr>\n",
              "    <tr>\n",
              "      <th>10996</th>\n",
              "      <td>enak rasa masakan nya apalagi kepiting yang me...</td>\n",
              "      <td>positive</td>\n",
              "    </tr>\n",
              "    <tr>\n",
              "      <th>10997</th>\n",
              "      <td>hormati partai-partai yang telah berkoalisi</td>\n",
              "      <td>neutral</td>\n",
              "    </tr>\n",
              "    <tr>\n",
              "      <th>10998</th>\n",
              "      <td>pagi pagi di tol pasteur sudah macet parah , b...</td>\n",
              "      <td>negative</td>\n",
              "    </tr>\n",
              "    <tr>\n",
              "      <th>10999</th>\n",
              "      <td>meskipun sering belanja ke yogya di riau junct...</td>\n",
              "      <td>positive</td>\n",
              "    </tr>\n",
              "  </tbody>\n",
              "</table>\n",
              "<p>11000 rows × 2 columns</p>\n",
              "</div>"
            ],
            "text/plain": [
              "                                                    text     label\n",
              "0      warung ini dimiliki oleh pengusaha pabrik tahu...  positive\n",
              "1      mohon ulama lurus dan k212 mmbri hujjah partai...   neutral\n",
              "2      lokasi strategis di jalan sumatera bandung . t...  positive\n",
              "3      betapa bahagia nya diri ini saat unboxing pake...  positive\n",
              "4      duh . jadi mahasiswa jangan sombong dong . kas...  negative\n",
              "...                                                  ...       ...\n",
              "10995                                       tidak kecewa  positive\n",
              "10996  enak rasa masakan nya apalagi kepiting yang me...  positive\n",
              "10997        hormati partai-partai yang telah berkoalisi   neutral\n",
              "10998  pagi pagi di tol pasteur sudah macet parah , b...  negative\n",
              "10999  meskipun sering belanja ke yogya di riau junct...  positive\n",
              "\n",
              "[11000 rows x 2 columns]"
            ]
          },
          "execution_count": 4,
          "metadata": {},
          "output_type": "execute_result"
        }
      ],
      "source": [
        "train_data"
      ]
    },
    {
      "cell_type": "code",
      "execution_count": 5,
      "metadata": {
        "colab": {
          "base_uri": "https://localhost:8080/",
          "height": 614
        },
        "collapsed": true,
        "id": "OMii3qLFx0fm",
        "outputId": "2e244800-acce-4b3f-d74e-3de8404fb248"
      },
      "outputs": [
        {
          "data": {
            "text/html": [
              "<div>\n",
              "<style scoped>\n",
              "    .dataframe tbody tr th:only-of-type {\n",
              "        vertical-align: middle;\n",
              "    }\n",
              "\n",
              "    .dataframe tbody tr th {\n",
              "        vertical-align: top;\n",
              "    }\n",
              "\n",
              "    .dataframe thead th {\n",
              "        text-align: right;\n",
              "    }\n",
              "</style>\n",
              "<table border=\"1\" class=\"dataframe\">\n",
              "  <thead>\n",
              "    <tr style=\"text-align: right;\">\n",
              "      <th></th>\n",
              "      <th>text</th>\n",
              "      <th>label</th>\n",
              "    </tr>\n",
              "  </thead>\n",
              "  <tbody>\n",
              "    <tr>\n",
              "      <th>0</th>\n",
              "      <td>kemarin gue datang ke tempat makan baru yang a...</td>\n",
              "      <td>negative</td>\n",
              "    </tr>\n",
              "    <tr>\n",
              "      <th>1</th>\n",
              "      <td>kayak nya sih gue tidak akan mau balik lagi ke...</td>\n",
              "      <td>negative</td>\n",
              "    </tr>\n",
              "    <tr>\n",
              "      <th>2</th>\n",
              "      <td>kalau dipikir-pikir , sebenarnya tidak ada yan...</td>\n",
              "      <td>negative</td>\n",
              "    </tr>\n",
              "    <tr>\n",
              "      <th>3</th>\n",
              "      <td>ini pertama kalinya gua ke bank buat ngurusin ...</td>\n",
              "      <td>negative</td>\n",
              "    </tr>\n",
              "    <tr>\n",
              "      <th>4</th>\n",
              "      <td>waktu sampai dengan gue pernah disuruh ibu lat...</td>\n",
              "      <td>negative</td>\n",
              "    </tr>\n",
              "    <tr>\n",
              "      <th>...</th>\n",
              "      <td>...</td>\n",
              "      <td>...</td>\n",
              "    </tr>\n",
              "    <tr>\n",
              "      <th>495</th>\n",
              "      <td>kata nya tidur yang baik itu minimal enam jam ...</td>\n",
              "      <td>neutral</td>\n",
              "    </tr>\n",
              "    <tr>\n",
              "      <th>496</th>\n",
              "      <td>indonesia itu ada di benua asia .</td>\n",
              "      <td>neutral</td>\n",
              "    </tr>\n",
              "    <tr>\n",
              "      <th>497</th>\n",
              "      <td>salah satu kegemaran anak remaja indonesia sek...</td>\n",
              "      <td>neutral</td>\n",
              "    </tr>\n",
              "    <tr>\n",
              "      <th>498</th>\n",
              "      <td>melihat warna hijau bisa bikin mata jadi lebih...</td>\n",
              "      <td>positive</td>\n",
              "    </tr>\n",
              "    <tr>\n",
              "      <th>499</th>\n",
              "      <td>bondan winarno yang suka bilang maknyus sekara...</td>\n",
              "      <td>neutral</td>\n",
              "    </tr>\n",
              "  </tbody>\n",
              "</table>\n",
              "<p>500 rows × 2 columns</p>\n",
              "</div>"
            ],
            "text/plain": [
              "                                                  text     label\n",
              "0    kemarin gue datang ke tempat makan baru yang a...  negative\n",
              "1    kayak nya sih gue tidak akan mau balik lagi ke...  negative\n",
              "2    kalau dipikir-pikir , sebenarnya tidak ada yan...  negative\n",
              "3    ini pertama kalinya gua ke bank buat ngurusin ...  negative\n",
              "4    waktu sampai dengan gue pernah disuruh ibu lat...  negative\n",
              "..                                                 ...       ...\n",
              "495  kata nya tidur yang baik itu minimal enam jam ...   neutral\n",
              "496                  indonesia itu ada di benua asia .   neutral\n",
              "497  salah satu kegemaran anak remaja indonesia sek...   neutral\n",
              "498  melihat warna hijau bisa bikin mata jadi lebih...  positive\n",
              "499  bondan winarno yang suka bilang maknyus sekara...   neutral\n",
              "\n",
              "[500 rows x 2 columns]"
            ]
          },
          "execution_count": 5,
          "metadata": {},
          "output_type": "execute_result"
        }
      ],
      "source": [
        "test_data"
      ]
    },
    {
      "cell_type": "markdown",
      "metadata": {
        "id": "ugZezHeLYDbj"
      },
      "source": [
        "# Preprocessing Data"
      ]
    },
    {
      "cell_type": "code",
      "execution_count": 6,
      "metadata": {
        "id": "K6ZKVPCJYQRP"
      },
      "outputs": [
        {
          "name": "stderr",
          "output_type": "stream",
          "text": [
            "<>:15: SyntaxWarning: invalid escape sequence '\\S'\n",
            "<>:19: SyntaxWarning: invalid escape sequence '\\['\n",
            "<>:20: SyntaxWarning: invalid escape sequence '\\s'\n",
            "<>:22: SyntaxWarning: invalid escape sequence '\\s'\n",
            "<>:15: SyntaxWarning: invalid escape sequence '\\S'\n",
            "<>:19: SyntaxWarning: invalid escape sequence '\\['\n",
            "<>:20: SyntaxWarning: invalid escape sequence '\\s'\n",
            "<>:22: SyntaxWarning: invalid escape sequence '\\s'\n",
            "C:\\Users\\celle\\AppData\\Local\\Temp\\ipykernel_28744\\962136103.py:15: SyntaxWarning: invalid escape sequence '\\S'\n",
            "  temp = re.sub(\"@\\S+\",\"\", temp)                # Remove mentions\n",
            "C:\\Users\\celle\\AppData\\Local\\Temp\\ipykernel_28744\\962136103.py:19: SyntaxWarning: invalid escape sequence '\\['\n",
            "  temp = re.sub(\"\\[.*?\\]\",\"\", temp)             # Remove text inside square brackets\n",
            "C:\\Users\\celle\\AppData\\Local\\Temp\\ipykernel_28744\\962136103.py:20: SyntaxWarning: invalid escape sequence '\\s'\n",
            "  temp = re.sub(\"[^a-z0-9\\s]\", \"\", temp)        # Remove non-alphanumeric characters (preserve spaces)\n",
            "C:\\Users\\celle\\AppData\\Local\\Temp\\ipykernel_28744\\962136103.py:22: SyntaxWarning: invalid escape sequence '\\s'\n",
            "  temp = re.sub('\\s+', ' ', temp).strip()       # Replace multiple spaces with a single space and strip leading/trailing spaces\n"
          ]
        }
      ],
      "source": [
        "stopword_factory = StopWordRemoverFactory()\n",
        "stopword_remover = stopword_factory.create_stop_word_remover()\n",
        "stop_words = set(stopwords.words('indonesian'))\n",
        "factory = StopWordRemoverFactory()\n",
        "stop_words_sastrawi = set(factory.get_stop_words())\n",
        "stop_words = stop_words.union(stop_words_sastrawi)\n",
        "stemmer_factory = StemmerFactory()\n",
        "stemmer = stemmer_factory.create_stemmer()\n",
        "\n",
        "def clean_text(text):\n",
        "    if type(text) == float:\n",
        "        return \"\"\n",
        "    temp = text.lower()\n",
        "    temp = re.sub(r'^RT\\s+', '', temp, flags=re.IGNORECASE).strip()\n",
        "    temp = re.sub(\"@\\S+\",\"\", temp)                # Remove mentions\n",
        "    temp = re.sub(\"#[A-Za-z0-9_]+\",\"\", temp)      # Remove hashtags\n",
        "    temp = re.sub(r\"https\\S+\",\"\", temp)           # Remove URLs\n",
        "    temp = re.sub('[()!?]', '', temp)             # Remove specific punctuations\n",
        "    temp = re.sub(\"\\[.*?\\]\",\"\", temp)             # Remove text inside square brackets\n",
        "    temp = re.sub(\"[^a-z0-9\\s]\", \"\", temp)        # Remove non-alphanumeric characters (preserve spaces)\n",
        "    temp = re.sub(r'[0-9]', '', temp)             # Remove digits\n",
        "    temp = re.sub('\\s+', ' ', temp).strip()       # Replace multiple spaces with a single space and strip leading/trailing spaces\n",
        "    temp = ' '.join([word for word in temp.split() if word not in stop_words])\n",
        "    temp = stemmer.stem(temp)\n",
        "    return temp\n",
        "\n",
        "train_data['clean'] = train_data['text'].apply(lambda x: clean_text(x))\n",
        "test_data['clean'] = test_data['text'].apply(lambda x: clean_text(x))"
      ]
    },
    {
      "cell_type": "markdown",
      "metadata": {
        "id": "T1EchpGRYAr8"
      },
      "source": [
        "# TF-IDF\n"
      ]
    },
    {
      "cell_type": "code",
      "execution_count": 7,
      "metadata": {
        "id": "cI9nL432N_hp"
      },
      "outputs": [],
      "source": [
        "X_train, y_train = train_data['clean'], train_data['label']\n",
        "X_test, y_test = test_data['clean'], test_data['label']\n",
        "tfidf_vectorizer = TfidfVectorizer()\n",
        "X_train_tfidf = tfidf_vectorizer.fit_transform(X_train)\n",
        "X_test_tfidf = tfidf_vectorizer.transform(X_test)"
      ]
    },
    {
      "cell_type": "code",
      "execution_count": 8,
      "metadata": {
        "colab": {
          "base_uri": "https://localhost:8080/"
        },
        "id": "fWFDnTi-Ov5f",
        "outputId": "d771bb4e-db3b-482c-fa9a-b5bb005228e9"
      },
      "outputs": [
        {
          "name": "stdout",
          "output_type": "stream",
          "text": [
            "Distribusi label:\n",
            " label\n",
            "positive    6416\n",
            "negative    3436\n",
            "neutral     1148\n",
            "Name: count, dtype: int64\n"
          ]
        }
      ],
      "source": [
        "print(\"Distribusi label:\\n\", y_train.value_counts())"
      ]
    },
    {
      "cell_type": "markdown",
      "metadata": {
        "id": "CxQK_9S-zrlJ"
      },
      "source": [
        "# Machine Learning Modelling"
      ]
    },
    {
      "cell_type": "code",
      "execution_count": 9,
      "metadata": {},
      "outputs": [],
      "source": [
        "class BaseModel(ABC):\n",
        "    def __init__(self, name):\n",
        "        self.name = name\n",
        "        self.best_params = None\n",
        "        self.model = None\n",
        "\n",
        "    @abstractmethod\n",
        "    def tune(self, X_train, y_train):\n",
        "        pass\n",
        "\n",
        "    @abstractmethod\n",
        "    def train(self, X_train, y_train):\n",
        "        pass\n",
        "\n",
        "    def evaluate(self, X_test, y_test):\n",
        "        y_pred = self.model.predict(X_test)\n",
        "        accuracy = accuracy_score(y_test, y_pred)\n",
        "        report = classification_report(y_test, y_pred)\n",
        "        return accuracy, report"
      ]
    },
    {
      "cell_type": "code",
      "execution_count": 10,
      "metadata": {},
      "outputs": [],
      "source": [
        "class SVMModel(BaseModel):\n",
        "    def __init__(self):\n",
        "        super().__init__('SVM')\n",
        "\n",
        "    def tune(self, X_train, y_train):\n",
        "        def objective(trial):\n",
        "            C = trial.suggest_loguniform('C', 1e-3, 1e3)\n",
        "            kernel = trial.suggest_categorical('kernel', ['linear', 'poly', 'rbf', 'sigmoid'])\n",
        "            gamma = trial.suggest_loguniform('gamma', 1e-4, 1e1)\n",
        "            degree = trial.suggest_int('degree', 2, 5) if kernel == 'poly' else 3\n",
        "\n",
        "            model = SVC(C=C, kernel=kernel, gamma=gamma, degree=degree, random_state=42)\n",
        "            score = cross_val_score(model, X_train, y_train, cv=3, scoring='accuracy')\n",
        "            return score.mean()\n",
        "\n",
        "        study = optuna.create_study(direction='maximize')\n",
        "        study.optimize(objective, n_trials=30)\n",
        "        self.best_params = study.best_params\n",
        "\n",
        "    def train(self, X_train, y_train):\n",
        "        self.model = SVC(**self.best_params, random_state=42)\n",
        "        self.model.fit(X_train, y_train)\n"
      ]
    },
    {
      "cell_type": "code",
      "execution_count": 11,
      "metadata": {},
      "outputs": [],
      "source": [
        "class GBDTModel(BaseModel):\n",
        "    def __init__(self):\n",
        "        super().__init__('GBDT')\n",
        "\n",
        "    def tune(self, X_train, y_train):\n",
        "        def objective(trial):\n",
        "            # Convert sparse to dense\n",
        "            X_train_dense = X_train.toarray()\n",
        "\n",
        "            # Hyperparameter tuning\n",
        "            learning_rate = trial.suggest_loguniform('learning_rate', 0.01, 0.2)\n",
        "            max_depth = trial.suggest_int('max_depth', 3, 10)\n",
        "            max_iter = trial.suggest_int('max_iter', 50, 200)\n",
        "\n",
        "            model = HistGradientBoostingClassifier(\n",
        "                learning_rate=learning_rate, max_depth=max_depth, max_iter=max_iter, random_state=42\n",
        "            )\n",
        "            score = cross_val_score(model, X_train_dense, y_train, cv=3, scoring='accuracy')\n",
        "            return score.mean()\n",
        "\n",
        "        study = optuna.create_study(direction='maximize')\n",
        "        study.optimize(objective, n_trials=30)\n",
        "        self.best_params = study.best_params\n",
        "\n",
        "    def train(self, X_train, y_train):\n",
        "        # Convert sparse to dense\n",
        "        X_train_dense = X_train.toarray()\n",
        "\n",
        "        self.model = HistGradientBoostingClassifier(**self.best_params, random_state=42)\n",
        "        self.model.fit(X_train_dense, y_train)\n"
      ]
    },
    {
      "cell_type": "code",
      "execution_count": 12,
      "metadata": {},
      "outputs": [],
      "source": [
        "class RuleBasedModel(BaseModel):\n",
        "    def __init__(self):\n",
        "        super().__init__('Rule-Based')\n",
        "\n",
        "    def tune(self, X_train, y_train):\n",
        "        \"\"\"\n",
        "        Tune the DummyClassifier to select the best strategy.\n",
        "        \"\"\"\n",
        "        def objective(trial):\n",
        "            # Suggest a strategy to evaluate\n",
        "            strategy = trial.suggest_categorical(\n",
        "                'strategy', ['most_frequent', 'prior', 'stratified', 'uniform']\n",
        "            )\n",
        "            # Create and evaluate the model\n",
        "            model = DummyClassifier(strategy=strategy)\n",
        "            score = cross_val_score(model, X_train, y_train, cv=3, scoring='accuracy')\n",
        "            return score.mean()\n",
        "\n",
        "        # Use Optuna to find the best strategy\n",
        "        study = optuna.create_study(direction='maximize')\n",
        "        study.optimize(objective, n_trials=10)  # Limited trials since it's lightweight\n",
        "\n",
        "        # Save the best parameters\n",
        "        self.best_params = {'strategy': study.best_params['strategy']}\n",
        "        print(f\"Best strategy for Rule-Based: {self.best_params['strategy']}\")\n",
        "\n",
        "    def train(self, X_train, y_train):\n",
        "        \"\"\"\n",
        "        Train the DummyClassifier with the selected strategy.\n",
        "        \"\"\"\n",
        "        self.model = DummyClassifier(strategy=self.best_params['strategy'])\n",
        "        self.model.fit(X_train, y_train)"
      ]
    },
    {
      "cell_type": "code",
      "execution_count": 13,
      "metadata": {},
      "outputs": [],
      "source": [
        "async def process_model(model, X_train, y_train, X_test, y_test):\n",
        "    print(f\"Tuning {model.name}...\")\n",
        "    await asyncio.to_thread(model.tune, X_train, y_train)\n",
        "    print(f\"Best parameters for {model.name}: {model.best_params}\")\n",
        "\n",
        "    print(f\"Training {model.name}...\")\n",
        "    await asyncio.to_thread(model.train, X_train, y_train)\n",
        "\n",
        "    print(f\"Evaluating {model.name}...\")\n",
        "    accuracy, report = model.evaluate(X_test, y_test)\n",
        "    print(f\"Accuracy for {model.name}: {accuracy}\")\n",
        "    print(report)\n",
        "    return model.name, accuracy\n",
        "\n",
        "async def main(models, X_train, y_train, X_test, y_test):\n",
        "    tasks = [process_model(model, X_train, y_train, X_test, y_test) for model in models]\n",
        "    results = await asyncio.gather(*tasks)\n",
        "    return results\n"
      ]
    },
    {
      "cell_type": "code",
      "execution_count": null,
      "metadata": {},
      "outputs": [
        {
          "name": "stderr",
          "output_type": "stream",
          "text": [
            "[I 2024-12-25 13:43:12,302] A new study created in memory with name: no-name-cd4c0887-6c2a-4bac-b32d-900ff9b85e14\n",
            "C:\\Users\\celle\\AppData\\Local\\Temp\\ipykernel_28744\\307846887.py:7: FutureWarning: suggest_loguniform has been deprecated in v3.0.0. This feature will be removed in v6.0.0. See https://github.com/optuna/optuna/releases/tag/v3.0.0. Use suggest_float(..., log=True) instead.\n",
            "  C = trial.suggest_loguniform('C', 1e-3, 1e3)\n",
            "[I 2024-12-25 13:43:12,303] A new study created in memory with name: no-name-d91bffe8-48ba-45ae-90a0-c5dd0785e54b\n",
            "C:\\Users\\celle\\AppData\\Local\\Temp\\ipykernel_28744\\307846887.py:9: FutureWarning: suggest_loguniform has been deprecated in v3.0.0. This feature will be removed in v6.0.0. See https://github.com/optuna/optuna/releases/tag/v3.0.0. Use suggest_float(..., log=True) instead.\n",
            "  gamma = trial.suggest_loguniform('gamma', 1e-4, 1e1)\n",
            "[I 2024-12-25 13:43:12,304] A new study created in memory with name: no-name-57037961-46c9-460d-b613-9aebc841500d\n",
            "[I 2024-12-25 13:43:12,358] Trial 0 finished with value: 0.5832727203840468 and parameters: {'strategy': 'prior'}. Best is trial 0 with value: 0.5832727203840468.\n"
          ]
        },
        {
          "name": "stderr",
          "output_type": "stream",
          "text": [
            "[I 2024-12-25 13:43:12,380] Trial 1 finished with value: 0.4505461810668107 and parameters: {'strategy': 'stratified'}. Best is trial 0 with value: 0.5832727203840468.\n",
            "[I 2024-12-25 13:43:12,399] Trial 2 finished with value: 0.34472737760833433 and parameters: {'strategy': 'uniform'}. Best is trial 0 with value: 0.5832727203840468.\n",
            "[I 2024-12-25 13:43:12,416] Trial 3 finished with value: 0.5832727203840468 and parameters: {'strategy': 'most_frequent'}. Best is trial 0 with value: 0.5832727203840468.\n",
            "C:\\Users\\celle\\AppData\\Local\\Temp\\ipykernel_28744\\4017327914.py:11: FutureWarning: suggest_loguniform has been deprecated in v3.0.0. This feature will be removed in v6.0.0. See https://github.com/optuna/optuna/releases/tag/v3.0.0. Use suggest_float(..., log=True) instead.\n",
            "  learning_rate = trial.suggest_loguniform('learning_rate', 0.01, 0.2)\n",
            "[I 2024-12-25 13:43:12,441] Trial 4 finished with value: 0.4486356271832254 and parameters: {'strategy': 'stratified'}. Best is trial 0 with value: 0.5832727203840468.\n"
          ]
        },
        {
          "name": "stdout",
          "output_type": "stream",
          "text": [
            "Tuning SVM...\n",
            "Tuning GBDT...\n",
            "Tuning Rule-Based...\n"
          ]
        },
        {
          "name": "stderr",
          "output_type": "stream",
          "text": [
            "[I 2024-12-25 13:43:12,458] Trial 5 finished with value: 0.34518279918311245 and parameters: {'strategy': 'uniform'}. Best is trial 0 with value: 0.5832727203840468.\n",
            "[I 2024-12-25 13:43:12,481] Trial 6 finished with value: 0.4501824041885197 and parameters: {'strategy': 'stratified'}. Best is trial 0 with value: 0.5832727203840468.\n",
            "[I 2024-12-25 13:43:12,499] Trial 7 finished with value: 0.5832727203840468 and parameters: {'strategy': 'most_frequent'}. Best is trial 0 with value: 0.5832727203840468.\n",
            "[I 2024-12-25 13:43:12,517] Trial 8 finished with value: 0.45272690827640377 and parameters: {'strategy': 'stratified'}. Best is trial 0 with value: 0.5832727203840468.\n",
            "[I 2024-12-25 13:43:12,535] Trial 9 finished with value: 0.33690884025669837 and parameters: {'strategy': 'uniform'}. Best is trial 0 with value: 0.5832727203840468.\n",
            "c:\\Users\\celle\\Documents\\DNDT\\venv\\Lib\\site-packages\\sklearn\\metrics\\_classification.py:1565: UndefinedMetricWarning: Precision is ill-defined and being set to 0.0 in labels with no predicted samples. Use `zero_division` parameter to control this behavior.\n",
            "  _warn_prf(average, modifier, f\"{metric.capitalize()} is\", len(result))\n",
            "c:\\Users\\celle\\Documents\\DNDT\\venv\\Lib\\site-packages\\sklearn\\metrics\\_classification.py:1565: UndefinedMetricWarning: Precision is ill-defined and being set to 0.0 in labels with no predicted samples. Use `zero_division` parameter to control this behavior.\n",
            "  _warn_prf(average, modifier, f\"{metric.capitalize()} is\", len(result))\n",
            "c:\\Users\\celle\\Documents\\DNDT\\venv\\Lib\\site-packages\\sklearn\\metrics\\_classification.py:1565: UndefinedMetricWarning: Precision is ill-defined and being set to 0.0 in labels with no predicted samples. Use `zero_division` parameter to control this behavior.\n",
            "  _warn_prf(average, modifier, f\"{metric.capitalize()} is\", len(result))\n"
          ]
        },
        {
          "name": "stdout",
          "output_type": "stream",
          "text": [
            "Best strategy for Rule-Based: prior\n",
            "Best parameters for Rule-Based: {'strategy': 'prior'}\n",
            "Training Rule-Based...\n",
            "Evaluating Rule-Based...\n",
            "Accuracy for Rule-Based: 0.416\n",
            "              precision    recall  f1-score   support\n",
            "\n",
            "    negative       0.00      0.00      0.00       204\n",
            "     neutral       0.00      0.00      0.00        88\n",
            "    positive       0.42      1.00      0.59       208\n",
            "\n",
            "    accuracy                           0.42       500\n",
            "   macro avg       0.14      0.33      0.20       500\n",
            "weighted avg       0.17      0.42      0.24       500\n",
            "\n"
          ]
        },
        {
          "name": "stderr",
          "output_type": "stream",
          "text": [
            "[I 2024-12-25 13:43:31,228] Trial 0 finished with value: 0.8471813775993087 and parameters: {'C': 681.5753710157569, 'kernel': 'rbf', 'gamma': 0.0011028492644940728}. Best is trial 0 with value: 0.8471813775993087.\n",
            "C:\\Users\\celle\\AppData\\Local\\Temp\\ipykernel_28744\\307846887.py:7: FutureWarning: suggest_loguniform has been deprecated in v3.0.0. This feature will be removed in v6.0.0. See https://github.com/optuna/optuna/releases/tag/v3.0.0. Use suggest_float(..., log=True) instead.\n",
            "  C = trial.suggest_loguniform('C', 1e-3, 1e3)\n",
            "C:\\Users\\celle\\AppData\\Local\\Temp\\ipykernel_28744\\307846887.py:9: FutureWarning: suggest_loguniform has been deprecated in v3.0.0. This feature will be removed in v6.0.0. See https://github.com/optuna/optuna/releases/tag/v3.0.0. Use suggest_float(..., log=True) instead.\n",
            "  gamma = trial.suggest_loguniform('gamma', 1e-4, 1e1)\n",
            "[I 2024-12-25 13:44:02,439] Trial 1 finished with value: 0.5832727203840468 and parameters: {'C': 4.815398881421919, 'kernel': 'rbf', 'gamma': 0.00032308548110339673}. Best is trial 0 with value: 0.8471813775993087.\n",
            "C:\\Users\\celle\\AppData\\Local\\Temp\\ipykernel_28744\\307846887.py:7: FutureWarning: suggest_loguniform has been deprecated in v3.0.0. This feature will be removed in v6.0.0. See https://github.com/optuna/optuna/releases/tag/v3.0.0. Use suggest_float(..., log=True) instead.\n",
            "  C = trial.suggest_loguniform('C', 1e-3, 1e3)\n",
            "C:\\Users\\celle\\AppData\\Local\\Temp\\ipykernel_28744\\307846887.py:9: FutureWarning: suggest_loguniform has been deprecated in v3.0.0. This feature will be removed in v6.0.0. See https://github.com/optuna/optuna/releases/tag/v3.0.0. Use suggest_float(..., log=True) instead.\n",
            "  gamma = trial.suggest_loguniform('gamma', 1e-4, 1e1)\n",
            "[I 2024-12-25 13:44:31,681] Trial 2 finished with value: 0.5832727203840468 and parameters: {'C': 1.075280970650158, 'kernel': 'sigmoid', 'gamma': 0.00026448695406225273}. Best is trial 0 with value: 0.8471813775993087.\n",
            "C:\\Users\\celle\\AppData\\Local\\Temp\\ipykernel_28744\\307846887.py:7: FutureWarning: suggest_loguniform has been deprecated in v3.0.0. This feature will be removed in v6.0.0. See https://github.com/optuna/optuna/releases/tag/v3.0.0. Use suggest_float(..., log=True) instead.\n",
            "  C = trial.suggest_loguniform('C', 1e-3, 1e3)\n",
            "C:\\Users\\celle\\AppData\\Local\\Temp\\ipykernel_28744\\307846887.py:9: FutureWarning: suggest_loguniform has been deprecated in v3.0.0. This feature will be removed in v6.0.0. See https://github.com/optuna/optuna/releases/tag/v3.0.0. Use suggest_float(..., log=True) instead.\n",
            "  gamma = trial.suggest_loguniform('gamma', 1e-4, 1e1)\n",
            "[I 2024-12-25 13:44:59,071] Trial 3 finished with value: 0.5832727203840468 and parameters: {'C': 0.004508552360479368, 'kernel': 'linear', 'gamma': 0.00021908697205836792}. Best is trial 0 with value: 0.8471813775993087.\n",
            "C:\\Users\\celle\\AppData\\Local\\Temp\\ipykernel_28744\\307846887.py:7: FutureWarning: suggest_loguniform has been deprecated in v3.0.0. This feature will be removed in v6.0.0. See https://github.com/optuna/optuna/releases/tag/v3.0.0. Use suggest_float(..., log=True) instead.\n",
            "  C = trial.suggest_loguniform('C', 1e-3, 1e3)\n",
            "C:\\Users\\celle\\AppData\\Local\\Temp\\ipykernel_28744\\307846887.py:9: FutureWarning: suggest_loguniform has been deprecated in v3.0.0. This feature will be removed in v6.0.0. See https://github.com/optuna/optuna/releases/tag/v3.0.0. Use suggest_float(..., log=True) instead.\n",
            "  gamma = trial.suggest_loguniform('gamma', 1e-4, 1e1)\n",
            "[I 2024-12-25 13:45:41,782] Trial 4 finished with value: 0.8050902529170463 and parameters: {'C': 0.8892775831314222, 'kernel': 'poly', 'gamma': 3.1962558560331935, 'degree': 2}. Best is trial 0 with value: 0.8471813775993087.\n",
            "C:\\Users\\celle\\AppData\\Local\\Temp\\ipykernel_28744\\307846887.py:7: FutureWarning: suggest_loguniform has been deprecated in v3.0.0. This feature will be removed in v6.0.0. See https://github.com/optuna/optuna/releases/tag/v3.0.0. Use suggest_float(..., log=True) instead.\n",
            "  C = trial.suggest_loguniform('C', 1e-3, 1e3)\n",
            "C:\\Users\\celle\\AppData\\Local\\Temp\\ipykernel_28744\\307846887.py:9: FutureWarning: suggest_loguniform has been deprecated in v3.0.0. This feature will be removed in v6.0.0. See https://github.com/optuna/optuna/releases/tag/v3.0.0. Use suggest_float(..., log=True) instead.\n",
            "  gamma = trial.suggest_loguniform('gamma', 1e-4, 1e1)\n",
            "[I 2024-12-25 13:46:09,630] Trial 5 finished with value: 0.5832727203840468 and parameters: {'C': 0.00218245036758959, 'kernel': 'linear', 'gamma': 0.5880106766201376}. Best is trial 0 with value: 0.8471813775993087.\n",
            "C:\\Users\\celle\\AppData\\Local\\Temp\\ipykernel_28744\\307846887.py:7: FutureWarning: suggest_loguniform has been deprecated in v3.0.0. This feature will be removed in v6.0.0. See https://github.com/optuna/optuna/releases/tag/v3.0.0. Use suggest_float(..., log=True) instead.\n",
            "  C = trial.suggest_loguniform('C', 1e-3, 1e3)\n",
            "C:\\Users\\celle\\AppData\\Local\\Temp\\ipykernel_28744\\307846887.py:9: FutureWarning: suggest_loguniform has been deprecated in v3.0.0. This feature will be removed in v6.0.0. See https://github.com/optuna/optuna/releases/tag/v3.0.0. Use suggest_float(..., log=True) instead.\n",
            "  gamma = trial.suggest_loguniform('gamma', 1e-4, 1e1)\n",
            "[I 2024-12-25 13:46:38,148] Trial 6 finished with value: 0.5832727203840468 and parameters: {'C': 0.004278037250599003, 'kernel': 'rbf', 'gamma': 0.003525097474181632}. Best is trial 0 with value: 0.8471813775993087.\n",
            "C:\\Users\\celle\\AppData\\Local\\Temp\\ipykernel_28744\\307846887.py:7: FutureWarning: suggest_loguniform has been deprecated in v3.0.0. This feature will be removed in v6.0.0. See https://github.com/optuna/optuna/releases/tag/v3.0.0. Use suggest_float(..., log=True) instead.\n",
            "  C = trial.suggest_loguniform('C', 1e-3, 1e3)\n",
            "C:\\Users\\celle\\AppData\\Local\\Temp\\ipykernel_28744\\307846887.py:9: FutureWarning: suggest_loguniform has been deprecated in v3.0.0. This feature will be removed in v6.0.0. See https://github.com/optuna/optuna/releases/tag/v3.0.0. Use suggest_float(..., log=True) instead.\n",
            "  gamma = trial.suggest_loguniform('gamma', 1e-4, 1e1)\n",
            "[I 2024-12-25 13:47:12,632] Trial 7 finished with value: 0.8407266749989946 and parameters: {'C': 625.8734994507164, 'kernel': 'rbf', 'gamma': 0.5802358094680015}. Best is trial 0 with value: 0.8471813775993087.\n",
            "C:\\Users\\celle\\AppData\\Local\\Temp\\ipykernel_28744\\307846887.py:7: FutureWarning: suggest_loguniform has been deprecated in v3.0.0. This feature will be removed in v6.0.0. See https://github.com/optuna/optuna/releases/tag/v3.0.0. Use suggest_float(..., log=True) instead.\n",
            "  C = trial.suggest_loguniform('C', 1e-3, 1e3)\n",
            "C:\\Users\\celle\\AppData\\Local\\Temp\\ipykernel_28744\\307846887.py:9: FutureWarning: suggest_loguniform has been deprecated in v3.0.0. This feature will be removed in v6.0.0. See https://github.com/optuna/optuna/releases/tag/v3.0.0. Use suggest_float(..., log=True) instead.\n",
            "  gamma = trial.suggest_loguniform('gamma', 1e-4, 1e1)\n",
            "[I 2024-12-25 13:47:33,354] Trial 8 finished with value: 0.7694544507261726 and parameters: {'C': 152.15576804376371, 'kernel': 'linear', 'gamma': 0.001582923841831226}. Best is trial 0 with value: 0.8471813775993087.\n",
            "C:\\Users\\celle\\AppData\\Local\\Temp\\ipykernel_28744\\307846887.py:7: FutureWarning: suggest_loguniform has been deprecated in v3.0.0. This feature will be removed in v6.0.0. See https://github.com/optuna/optuna/releases/tag/v3.0.0. Use suggest_float(..., log=True) instead.\n",
            "  C = trial.suggest_loguniform('C', 1e-3, 1e3)\n",
            "C:\\Users\\celle\\AppData\\Local\\Temp\\ipykernel_28744\\307846887.py:9: FutureWarning: suggest_loguniform has been deprecated in v3.0.0. This feature will be removed in v6.0.0. See https://github.com/optuna/optuna/releases/tag/v3.0.0. Use suggest_float(..., log=True) instead.\n",
            "  gamma = trial.suggest_loguniform('gamma', 1e-4, 1e1)\n",
            "[I 2024-12-25 13:47:54,324] Trial 9 finished with value: 0.8470904767721111 and parameters: {'C': 521.5930725372554, 'kernel': 'rbf', 'gamma': 0.0015529593758242246}. Best is trial 0 with value: 0.8471813775993087.\n",
            "C:\\Users\\celle\\AppData\\Local\\Temp\\ipykernel_28744\\307846887.py:7: FutureWarning: suggest_loguniform has been deprecated in v3.0.0. This feature will be removed in v6.0.0. See https://github.com/optuna/optuna/releases/tag/v3.0.0. Use suggest_float(..., log=True) instead.\n",
            "  C = trial.suggest_loguniform('C', 1e-3, 1e3)\n",
            "C:\\Users\\celle\\AppData\\Local\\Temp\\ipykernel_28744\\307846887.py:9: FutureWarning: suggest_loguniform has been deprecated in v3.0.0. This feature will be removed in v6.0.0. See https://github.com/optuna/optuna/releases/tag/v3.0.0. Use suggest_float(..., log=True) instead.\n",
            "  gamma = trial.suggest_loguniform('gamma', 1e-4, 1e1)\n",
            "[I 2024-12-25 13:48:15,083] Trial 10 finished with value: 0.8190902944745438 and parameters: {'C': 14.56682074293693, 'kernel': 'sigmoid', 'gamma': 0.02381156109001621}. Best is trial 0 with value: 0.8471813775993087.\n",
            "C:\\Users\\celle\\AppData\\Local\\Temp\\ipykernel_28744\\307846887.py:7: FutureWarning: suggest_loguniform has been deprecated in v3.0.0. This feature will be removed in v6.0.0. See https://github.com/optuna/optuna/releases/tag/v3.0.0. Use suggest_float(..., log=True) instead.\n",
            "  C = trial.suggest_loguniform('C', 1e-3, 1e3)\n",
            "C:\\Users\\celle\\AppData\\Local\\Temp\\ipykernel_28744\\307846887.py:9: FutureWarning: suggest_loguniform has been deprecated in v3.0.0. This feature will be removed in v6.0.0. See https://github.com/optuna/optuna/releases/tag/v3.0.0. Use suggest_float(..., log=True) instead.\n",
            "  gamma = trial.suggest_loguniform('gamma', 1e-4, 1e1)\n",
            "[I 2024-12-25 13:48:37,648] Trial 11 finished with value: 0.8091813108494378 and parameters: {'C': 960.5152176261123, 'kernel': 'rbf', 'gamma': 0.008222565721315743}. Best is trial 0 with value: 0.8471813775993087.\n",
            "C:\\Users\\celle\\AppData\\Local\\Temp\\ipykernel_28744\\307846887.py:7: FutureWarning: suggest_loguniform has been deprecated in v3.0.0. This feature will be removed in v6.0.0. See https://github.com/optuna/optuna/releases/tag/v3.0.0. Use suggest_float(..., log=True) instead.\n",
            "  C = trial.suggest_loguniform('C', 1e-3, 1e3)\n",
            "C:\\Users\\celle\\AppData\\Local\\Temp\\ipykernel_28744\\307846887.py:9: FutureWarning: suggest_loguniform has been deprecated in v3.0.0. This feature will be removed in v6.0.0. See https://github.com/optuna/optuna/releases/tag/v3.0.0. Use suggest_float(..., log=True) instead.\n",
            "  gamma = trial.suggest_loguniform('gamma', 1e-4, 1e1)\n",
            "[I 2024-12-25 13:49:03,290] Trial 12 finished with value: 0.7769997648877132 and parameters: {'C': 44.21846908446793, 'kernel': 'rbf', 'gamma': 0.0011764825044827565}. Best is trial 0 with value: 0.8471813775993087.\n",
            "C:\\Users\\celle\\AppData\\Local\\Temp\\ipykernel_28744\\307846887.py:7: FutureWarning: suggest_loguniform has been deprecated in v3.0.0. This feature will be removed in v6.0.0. See https://github.com/optuna/optuna/releases/tag/v3.0.0. Use suggest_float(..., log=True) instead.\n",
            "  C = trial.suggest_loguniform('C', 1e-3, 1e3)\n",
            "C:\\Users\\celle\\AppData\\Local\\Temp\\ipykernel_28744\\307846887.py:9: FutureWarning: suggest_loguniform has been deprecated in v3.0.0. This feature will be removed in v6.0.0. See https://github.com/optuna/optuna/releases/tag/v3.0.0. Use suggest_float(..., log=True) instead.\n",
            "  gamma = trial.suggest_loguniform('gamma', 1e-4, 1e1)\n",
            "[I 2024-12-25 13:49:28,075] Trial 13 finished with value: 0.5832727203840468 and parameters: {'C': 0.09252695565088423, 'kernel': 'poly', 'gamma': 0.06995754651136082, 'degree': 5}. Best is trial 0 with value: 0.8471813775993087.\n",
            "C:\\Users\\celle\\AppData\\Local\\Temp\\ipykernel_28744\\307846887.py:7: FutureWarning: suggest_loguniform has been deprecated in v3.0.0. This feature will be removed in v6.0.0. See https://github.com/optuna/optuna/releases/tag/v3.0.0. Use suggest_float(..., log=True) instead.\n",
            "  C = trial.suggest_loguniform('C', 1e-3, 1e3)\n",
            "C:\\Users\\celle\\AppData\\Local\\Temp\\ipykernel_28744\\307846887.py:9: FutureWarning: suggest_loguniform has been deprecated in v3.0.0. This feature will be removed in v6.0.0. See https://github.com/optuna/optuna/releases/tag/v3.0.0. Use suggest_float(..., log=True) instead.\n",
            "  gamma = trial.suggest_loguniform('gamma', 1e-4, 1e1)\n",
            "[I 2024-12-25 13:49:58,119] Trial 14 finished with value: 0.6333632666335496 and parameters: {'C': 122.98515029051276, 'kernel': 'rbf', 'gamma': 0.00010506063011391958}. Best is trial 0 with value: 0.8471813775993087.\n",
            "C:\\Users\\celle\\AppData\\Local\\Temp\\ipykernel_28744\\307846887.py:7: FutureWarning: suggest_loguniform has been deprecated in v3.0.0. This feature will be removed in v6.0.0. See https://github.com/optuna/optuna/releases/tag/v3.0.0. Use suggest_float(..., log=True) instead.\n",
            "  C = trial.suggest_loguniform('C', 1e-3, 1e3)\n",
            "C:\\Users\\celle\\AppData\\Local\\Temp\\ipykernel_28744\\307846887.py:9: FutureWarning: suggest_loguniform has been deprecated in v3.0.0. This feature will be removed in v6.0.0. See https://github.com/optuna/optuna/releases/tag/v3.0.0. Use suggest_float(..., log=True) instead.\n",
            "  gamma = trial.suggest_loguniform('gamma', 1e-4, 1e1)\n",
            "[I 2024-12-25 13:50:20,465] Trial 15 finished with value: 0.8243632615256472 and parameters: {'C': 199.0769873760634, 'kernel': 'rbf', 'gamma': 0.017991575033325605}. Best is trial 0 with value: 0.8471813775993087.\n",
            "C:\\Users\\celle\\AppData\\Local\\Temp\\ipykernel_28744\\307846887.py:7: FutureWarning: suggest_loguniform has been deprecated in v3.0.0. This feature will be removed in v6.0.0. See https://github.com/optuna/optuna/releases/tag/v3.0.0. Use suggest_float(..., log=True) instead.\n",
            "  C = trial.suggest_loguniform('C', 1e-3, 1e3)\n",
            "C:\\Users\\celle\\AppData\\Local\\Temp\\ipykernel_28744\\307846887.py:9: FutureWarning: suggest_loguniform has been deprecated in v3.0.0. This feature will be removed in v6.0.0. See https://github.com/optuna/optuna/releases/tag/v3.0.0. Use suggest_float(..., log=True) instead.\n",
            "  gamma = trial.suggest_loguniform('gamma', 1e-4, 1e1)\n",
            "[I 2024-12-25 13:50:49,774] Trial 16 finished with value: 0.6467270271963076 and parameters: {'C': 12.253106054222002, 'kernel': 'rbf', 'gamma': 0.0010988343071346364}. Best is trial 0 with value: 0.8471813775993087.\n",
            "C:\\Users\\celle\\AppData\\Local\\Temp\\ipykernel_28744\\307846887.py:7: FutureWarning: suggest_loguniform has been deprecated in v3.0.0. This feature will be removed in v6.0.0. See https://github.com/optuna/optuna/releases/tag/v3.0.0. Use suggest_float(..., log=True) instead.\n",
            "  C = trial.suggest_loguniform('C', 1e-3, 1e3)\n",
            "C:\\Users\\celle\\AppData\\Local\\Temp\\ipykernel_28744\\307846887.py:9: FutureWarning: suggest_loguniform has been deprecated in v3.0.0. This feature will be removed in v6.0.0. See https://github.com/optuna/optuna/releases/tag/v3.0.0. Use suggest_float(..., log=True) instead.\n",
            "  gamma = trial.suggest_loguniform('gamma', 1e-4, 1e1)\n",
            "[I 2024-12-25 13:51:18,746] Trial 17 finished with value: 0.5832727203840468 and parameters: {'C': 0.06081185554272492, 'kernel': 'sigmoid', 'gamma': 0.07494897581109318}. Best is trial 0 with value: 0.8471813775993087.\n",
            "C:\\Users\\celle\\AppData\\Local\\Temp\\ipykernel_28744\\307846887.py:7: FutureWarning: suggest_loguniform has been deprecated in v3.0.0. This feature will be removed in v6.0.0. See https://github.com/optuna/optuna/releases/tag/v3.0.0. Use suggest_float(..., log=True) instead.\n",
            "  C = trial.suggest_loguniform('C', 1e-3, 1e3)\n",
            "C:\\Users\\celle\\AppData\\Local\\Temp\\ipykernel_28744\\307846887.py:9: FutureWarning: suggest_loguniform has been deprecated in v3.0.0. This feature will be removed in v6.0.0. See https://github.com/optuna/optuna/releases/tag/v3.0.0. Use suggest_float(..., log=True) instead.\n",
            "  gamma = trial.suggest_loguniform('gamma', 1e-4, 1e1)\n",
            "[I 2024-12-25 13:51:53,529] Trial 18 finished with value: 0.5832727203840468 and parameters: {'C': 993.4514306680068, 'kernel': 'poly', 'gamma': 0.005062193055405415, 'degree': 2}. Best is trial 0 with value: 0.8471813775993087.\n",
            "C:\\Users\\celle\\AppData\\Local\\Temp\\ipykernel_28744\\307846887.py:7: FutureWarning: suggest_loguniform has been deprecated in v3.0.0. This feature will be removed in v6.0.0. See https://github.com/optuna/optuna/releases/tag/v3.0.0. Use suggest_float(..., log=True) instead.\n",
            "  C = trial.suggest_loguniform('C', 1e-3, 1e3)\n",
            "C:\\Users\\celle\\AppData\\Local\\Temp\\ipykernel_28744\\307846887.py:9: FutureWarning: suggest_loguniform has been deprecated in v3.0.0. This feature will be removed in v6.0.0. See https://github.com/optuna/optuna/releases/tag/v3.0.0. Use suggest_float(..., log=True) instead.\n",
            "  gamma = trial.suggest_loguniform('gamma', 1e-4, 1e1)\n",
            "[I 2024-12-25 13:52:20,970] Trial 19 finished with value: 0.7719998474572044 and parameters: {'C': 41.89518220501691, 'kernel': 'rbf', 'gamma': 0.0006768326042107113}. Best is trial 0 with value: 0.8471813775993087.\n",
            "C:\\Users\\celle\\AppData\\Local\\Temp\\ipykernel_28744\\307846887.py:7: FutureWarning: suggest_loguniform has been deprecated in v3.0.0. This feature will be removed in v6.0.0. See https://github.com/optuna/optuna/releases/tag/v3.0.0. Use suggest_float(..., log=True) instead.\n",
            "  C = trial.suggest_loguniform('C', 1e-3, 1e3)\n",
            "C:\\Users\\celle\\AppData\\Local\\Temp\\ipykernel_28744\\307846887.py:9: FutureWarning: suggest_loguniform has been deprecated in v3.0.0. This feature will be removed in v6.0.0. See https://github.com/optuna/optuna/releases/tag/v3.0.0. Use suggest_float(..., log=True) instead.\n",
            "  gamma = trial.suggest_loguniform('gamma', 1e-4, 1e1)\n",
            "[I 2024-12-25 13:52:51,569] Trial 20 finished with value: 0.5832727203840468 and parameters: {'C': 0.8824772332596931, 'kernel': 'rbf', 'gamma': 0.0029131236712922827}. Best is trial 0 with value: 0.8471813775993087.\n",
            "C:\\Users\\celle\\AppData\\Local\\Temp\\ipykernel_28744\\307846887.py:7: FutureWarning: suggest_loguniform has been deprecated in v3.0.0. This feature will be removed in v6.0.0. See https://github.com/optuna/optuna/releases/tag/v3.0.0. Use suggest_float(..., log=True) instead.\n",
            "  C = trial.suggest_loguniform('C', 1e-3, 1e3)\n",
            "C:\\Users\\celle\\AppData\\Local\\Temp\\ipykernel_28744\\307846887.py:9: FutureWarning: suggest_loguniform has been deprecated in v3.0.0. This feature will be removed in v6.0.0. See https://github.com/optuna/optuna/releases/tag/v3.0.0. Use suggest_float(..., log=True) instead.\n",
            "  gamma = trial.suggest_loguniform('gamma', 1e-4, 1e1)\n",
            "[I 2024-12-25 13:53:25,617] Trial 21 finished with value: 0.8409085262446756 and parameters: {'C': 418.35350642161274, 'kernel': 'rbf', 'gamma': 0.6175318759534486}. Best is trial 0 with value: 0.8471813775993087.\n",
            "C:\\Users\\celle\\AppData\\Local\\Temp\\ipykernel_28744\\307846887.py:7: FutureWarning: suggest_loguniform has been deprecated in v3.0.0. This feature will be removed in v6.0.0. See https://github.com/optuna/optuna/releases/tag/v3.0.0. Use suggest_float(..., log=True) instead.\n",
            "  C = trial.suggest_loguniform('C', 1e-3, 1e3)\n",
            "C:\\Users\\celle\\AppData\\Local\\Temp\\ipykernel_28744\\307846887.py:9: FutureWarning: suggest_loguniform has been deprecated in v3.0.0. This feature will be removed in v6.0.0. See https://github.com/optuna/optuna/releases/tag/v3.0.0. Use suggest_float(..., log=True) instead.\n",
            "  gamma = trial.suggest_loguniform('gamma', 1e-4, 1e1)\n",
            "[I 2024-12-25 13:53:41,325] Trial 0 finished with value: 0.8333631624918492 and parameters: {'learning_rate': 0.08968444249277593, 'max_depth': 10, 'max_iter': 170}. Best is trial 0 with value: 0.8333631624918492.\n",
            "C:\\Users\\celle\\AppData\\Local\\Temp\\ipykernel_28744\\4017327914.py:11: FutureWarning: suggest_loguniform has been deprecated in v3.0.0. This feature will be removed in v6.0.0. See https://github.com/optuna/optuna/releases/tag/v3.0.0. Use suggest_float(..., log=True) instead.\n",
            "  learning_rate = trial.suggest_loguniform('learning_rate', 0.01, 0.2)\n",
            "[I 2024-12-25 13:54:16,713] Trial 22 finished with value: 0.5793637120624803 and parameters: {'C': 202.83210224871976, 'kernel': 'rbf', 'gamma': 9.588998036257541}. Best is trial 0 with value: 0.8471813775993087.\n",
            "C:\\Users\\celle\\AppData\\Local\\Temp\\ipykernel_28744\\307846887.py:7: FutureWarning: suggest_loguniform has been deprecated in v3.0.0. This feature will be removed in v6.0.0. See https://github.com/optuna/optuna/releases/tag/v3.0.0. Use suggest_float(..., log=True) instead.\n",
            "  C = trial.suggest_loguniform('C', 1e-3, 1e3)\n",
            "C:\\Users\\celle\\AppData\\Local\\Temp\\ipykernel_28744\\307846887.py:9: FutureWarning: suggest_loguniform has been deprecated in v3.0.0. This feature will be removed in v6.0.0. See https://github.com/optuna/optuna/releases/tag/v3.0.0. Use suggest_float(..., log=True) instead.\n",
            "  gamma = trial.suggest_loguniform('gamma', 1e-4, 1e1)\n",
            "[I 2024-12-25 13:54:47,212] Trial 23 finished with value: 0.836817641881785 and parameters: {'C': 50.2968752908845, 'kernel': 'rbf', 'gamma': 0.3682894421733756}. Best is trial 0 with value: 0.8471813775993087.\n",
            "C:\\Users\\celle\\AppData\\Local\\Temp\\ipykernel_28744\\307846887.py:7: FutureWarning: suggest_loguniform has been deprecated in v3.0.0. This feature will be removed in v6.0.0. See https://github.com/optuna/optuna/releases/tag/v3.0.0. Use suggest_float(..., log=True) instead.\n",
            "  C = trial.suggest_loguniform('C', 1e-3, 1e3)\n",
            "C:\\Users\\celle\\AppData\\Local\\Temp\\ipykernel_28744\\307846887.py:9: FutureWarning: suggest_loguniform has been deprecated in v3.0.0. This feature will be removed in v6.0.0. See https://github.com/optuna/optuna/releases/tag/v3.0.0. Use suggest_float(..., log=True) instead.\n",
            "  gamma = trial.suggest_loguniform('gamma', 1e-4, 1e1)\n",
            "[I 2024-12-25 13:55:09,773] Trial 24 finished with value: 0.8129993935481638 and parameters: {'C': 363.79198617028464, 'kernel': 'rbf', 'gamma': 0.08593545020323161}. Best is trial 0 with value: 0.8471813775993087.\n",
            "C:\\Users\\celle\\AppData\\Local\\Temp\\ipykernel_28744\\307846887.py:7: FutureWarning: suggest_loguniform has been deprecated in v3.0.0. This feature will be removed in v6.0.0. See https://github.com/optuna/optuna/releases/tag/v3.0.0. Use suggest_float(..., log=True) instead.\n",
            "  C = trial.suggest_loguniform('C', 1e-3, 1e3)\n",
            "C:\\Users\\celle\\AppData\\Local\\Temp\\ipykernel_28744\\307846887.py:9: FutureWarning: suggest_loguniform has been deprecated in v3.0.0. This feature will be removed in v6.0.0. See https://github.com/optuna/optuna/releases/tag/v3.0.0. Use suggest_float(..., log=True) instead.\n",
            "  gamma = trial.suggest_loguniform('gamma', 1e-4, 1e1)\n",
            "[I 2024-12-25 13:55:33,644] Trial 1 finished with value: 0.8129995175263787 and parameters: {'learning_rate': 0.10992122730744433, 'max_depth': 3, 'max_iter': 154}. Best is trial 0 with value: 0.8333631624918492.\n",
            "C:\\Users\\celle\\AppData\\Local\\Temp\\ipykernel_28744\\4017327914.py:11: FutureWarning: suggest_loguniform has been deprecated in v3.0.0. This feature will be removed in v6.0.0. See https://github.com/optuna/optuna/releases/tag/v3.0.0. Use suggest_float(..., log=True) instead.\n",
            "  learning_rate = trial.suggest_loguniform('learning_rate', 0.01, 0.2)\n",
            "[I 2024-12-25 13:55:53,027] Trial 25 finished with value: 0.8155448150748384 and parameters: {'C': 79.5260616537089, 'kernel': 'rbf', 'gamma': 1.7642544733970558}. Best is trial 0 with value: 0.8471813775993087.\n",
            "C:\\Users\\celle\\AppData\\Local\\Temp\\ipykernel_28744\\307846887.py:7: FutureWarning: suggest_loguniform has been deprecated in v3.0.0. This feature will be removed in v6.0.0. See https://github.com/optuna/optuna/releases/tag/v3.0.0. Use suggest_float(..., log=True) instead.\n",
            "  C = trial.suggest_loguniform('C', 1e-3, 1e3)\n",
            "C:\\Users\\celle\\AppData\\Local\\Temp\\ipykernel_28744\\307846887.py:9: FutureWarning: suggest_loguniform has been deprecated in v3.0.0. This feature will be removed in v6.0.0. See https://github.com/optuna/optuna/releases/tag/v3.0.0. Use suggest_float(..., log=True) instead.\n",
            "  gamma = trial.suggest_loguniform('gamma', 1e-4, 1e1)\n",
            "[I 2024-12-25 13:56:34,843] Trial 26 finished with value: 0.5832727203840468 and parameters: {'C': 8.998665553518006, 'kernel': 'poly', 'gamma': 0.22777401221273139, 'degree': 5}. Best is trial 0 with value: 0.8471813775993087.\n",
            "C:\\Users\\celle\\AppData\\Local\\Temp\\ipykernel_28744\\307846887.py:7: FutureWarning: suggest_loguniform has been deprecated in v3.0.0. This feature will be removed in v6.0.0. See https://github.com/optuna/optuna/releases/tag/v3.0.0. Use suggest_float(..., log=True) instead.\n",
            "  C = trial.suggest_loguniform('C', 1e-3, 1e3)\n",
            "C:\\Users\\celle\\AppData\\Local\\Temp\\ipykernel_28744\\307846887.py:9: FutureWarning: suggest_loguniform has been deprecated in v3.0.0. This feature will be removed in v6.0.0. See https://github.com/optuna/optuna/releases/tag/v3.0.0. Use suggest_float(..., log=True) instead.\n",
            "  gamma = trial.suggest_loguniform('gamma', 1e-4, 1e1)\n",
            "[I 2024-12-25 13:56:43,655] Trial 2 finished with value: 0.795363418085337 and parameters: {'learning_rate': 0.09818254359712497, 'max_depth': 3, 'max_iter': 90}. Best is trial 0 with value: 0.8333631624918492.\n",
            "C:\\Users\\celle\\AppData\\Local\\Temp\\ipykernel_28744\\4017327914.py:11: FutureWarning: suggest_loguniform has been deprecated in v3.0.0. This feature will be removed in v6.0.0. See https://github.com/optuna/optuna/releases/tag/v3.0.0. Use suggest_float(..., log=True) instead.\n",
            "  learning_rate = trial.suggest_loguniform('learning_rate', 0.01, 0.2)\n",
            "[I 2024-12-25 13:56:53,371] Trial 27 finished with value: 0.7609092522611024 and parameters: {'C': 343.3855758875756, 'kernel': 'linear', 'gamma': 0.008884883990921829}. Best is trial 0 with value: 0.8471813775993087.\n",
            "C:\\Users\\celle\\AppData\\Local\\Temp\\ipykernel_28744\\307846887.py:7: FutureWarning: suggest_loguniform has been deprecated in v3.0.0. This feature will be removed in v6.0.0. See https://github.com/optuna/optuna/releases/tag/v3.0.0. Use suggest_float(..., log=True) instead.\n",
            "  C = trial.suggest_loguniform('C', 1e-3, 1e3)\n",
            "C:\\Users\\celle\\AppData\\Local\\Temp\\ipykernel_28744\\307846887.py:9: FutureWarning: suggest_loguniform has been deprecated in v3.0.0. This feature will be removed in v6.0.0. See https://github.com/optuna/optuna/releases/tag/v3.0.0. Use suggest_float(..., log=True) instead.\n",
            "  gamma = trial.suggest_loguniform('gamma', 1e-4, 1e1)\n",
            "[I 2024-12-25 13:57:20,857] Trial 28 finished with value: 0.7577268554616842 and parameters: {'C': 2.751554502409042, 'kernel': 'sigmoid', 'gamma': 0.0131936569193659}. Best is trial 0 with value: 0.8471813775993087.\n",
            "C:\\Users\\celle\\AppData\\Local\\Temp\\ipykernel_28744\\307846887.py:7: FutureWarning: suggest_loguniform has been deprecated in v3.0.0. This feature will be removed in v6.0.0. See https://github.com/optuna/optuna/releases/tag/v3.0.0. Use suggest_float(..., log=True) instead.\n",
            "  C = trial.suggest_loguniform('C', 1e-3, 1e3)\n",
            "C:\\Users\\celle\\AppData\\Local\\Temp\\ipykernel_28744\\307846887.py:9: FutureWarning: suggest_loguniform has been deprecated in v3.0.0. This feature will be removed in v6.0.0. See https://github.com/optuna/optuna/releases/tag/v3.0.0. Use suggest_float(..., log=True) instead.\n",
            "  gamma = trial.suggest_loguniform('gamma', 1e-4, 1e1)\n",
            "[I 2024-12-25 13:57:50,017] Trial 29 finished with value: 0.6827268542219022 and parameters: {'C': 23.36231091804764, 'kernel': 'rbf', 'gamma': 0.0006221437700474396}. Best is trial 0 with value: 0.8471813775993087.\n"
          ]
        },
        {
          "name": "stdout",
          "output_type": "stream",
          "text": [
            "Best parameters for SVM: {'C': 681.5753710157569, 'kernel': 'rbf', 'gamma': 0.0011028492644940728}\n",
            "Training SVM...\n",
            "Evaluating SVM...\n",
            "Accuracy for SVM: 0.744\n",
            "              precision    recall  f1-score   support\n",
            "\n",
            "    negative       0.70      0.88      0.78       204\n",
            "     neutral       0.68      0.47      0.55        88\n",
            "    positive       0.82      0.73      0.77       208\n",
            "\n",
            "    accuracy                           0.74       500\n",
            "   macro avg       0.74      0.69      0.70       500\n",
            "weighted avg       0.75      0.74      0.74       500\n",
            "\n"
          ]
        },
        {
          "name": "stderr",
          "output_type": "stream",
          "text": [
            "[I 2024-12-25 14:02:30,365] Trial 3 finished with value: 0.7781812276848511 and parameters: {'learning_rate': 0.016155406661892423, 'max_depth': 10, 'max_iter': 79}. Best is trial 0 with value: 0.8333631624918492.\n",
            "C:\\Users\\celle\\AppData\\Local\\Temp\\ipykernel_28744\\4017327914.py:11: FutureWarning: suggest_loguniform has been deprecated in v3.0.0. This feature will be removed in v6.0.0. See https://github.com/optuna/optuna/releases/tag/v3.0.0. Use suggest_float(..., log=True) instead.\n",
            "  learning_rate = trial.suggest_loguniform('learning_rate', 0.01, 0.2)\n",
            "[I 2024-12-25 14:08:50,641] Trial 4 finished with value: 0.8134540216623662 and parameters: {'learning_rate': 0.04007830204595277, 'max_depth': 6, 'max_iter': 194}. Best is trial 0 with value: 0.8333631624918492.\n",
            "C:\\Users\\celle\\AppData\\Local\\Temp\\ipykernel_28744\\4017327914.py:11: FutureWarning: suggest_loguniform has been deprecated in v3.0.0. This feature will be removed in v6.0.0. See https://github.com/optuna/optuna/releases/tag/v3.0.0. Use suggest_float(..., log=True) instead.\n",
            "  learning_rate = trial.suggest_loguniform('learning_rate', 0.01, 0.2)\n",
            "[I 2024-12-25 14:13:30,712] Trial 5 finished with value: 0.7999089057667872 and parameters: {'learning_rate': 0.03787848938179212, 'max_depth': 6, 'max_iter': 126}. Best is trial 0 with value: 0.8333631624918492.\n",
            "C:\\Users\\celle\\AppData\\Local\\Temp\\ipykernel_28744\\4017327914.py:11: FutureWarning: suggest_loguniform has been deprecated in v3.0.0. This feature will be removed in v6.0.0. See https://github.com/optuna/optuna/releases/tag/v3.0.0. Use suggest_float(..., log=True) instead.\n",
            "  learning_rate = trial.suggest_loguniform('learning_rate', 0.01, 0.2)\n",
            "[I 2024-12-25 14:17:24,205] Trial 6 finished with value: 0.8168178481815347 and parameters: {'learning_rate': 0.07512218844443345, 'max_depth': 10, 'max_iter': 73}. Best is trial 0 with value: 0.8333631624918492.\n",
            "C:\\Users\\celle\\AppData\\Local\\Temp\\ipykernel_28744\\4017327914.py:11: FutureWarning: suggest_loguniform has been deprecated in v3.0.0. This feature will be removed in v6.0.0. See https://github.com/optuna/optuna/releases/tag/v3.0.0. Use suggest_float(..., log=True) instead.\n",
            "  learning_rate = trial.suggest_loguniform('learning_rate', 0.01, 0.2)\n",
            "[I 2024-12-25 14:24:59,530] Trial 7 finished with value: 0.8254540714520174 and parameters: {'learning_rate': 0.05480827242763286, 'max_depth': 10, 'max_iter': 160}. Best is trial 0 with value: 0.8333631624918492.\n",
            "C:\\Users\\celle\\AppData\\Local\\Temp\\ipykernel_28744\\4017327914.py:11: FutureWarning: suggest_loguniform has been deprecated in v3.0.0. This feature will be removed in v6.0.0. See https://github.com/optuna/optuna/releases/tag/v3.0.0. Use suggest_float(..., log=True) instead.\n",
            "  learning_rate = trial.suggest_loguniform('learning_rate', 0.01, 0.2)\n",
            "[I 2024-12-25 14:34:02,599] Trial 8 finished with value: 0.7899997733678231 and parameters: {'learning_rate': 0.018438374132109053, 'max_depth': 7, 'max_iter': 155}. Best is trial 0 with value: 0.8333631624918492.\n",
            "C:\\Users\\celle\\AppData\\Local\\Temp\\ipykernel_28744\\4017327914.py:11: FutureWarning: suggest_loguniform has been deprecated in v3.0.0. This feature will be removed in v6.0.0. See https://github.com/optuna/optuna/releases/tag/v3.0.0. Use suggest_float(..., log=True) instead.\n",
            "  learning_rate = trial.suggest_loguniform('learning_rate', 0.01, 0.2)\n",
            "[I 2024-12-25 14:38:31,878] Trial 9 finished with value: 0.7723629052618487 and parameters: {'learning_rate': 0.019409654395553554, 'max_depth': 9, 'max_iter': 56}. Best is trial 0 with value: 0.8333631624918492.\n",
            "C:\\Users\\celle\\AppData\\Local\\Temp\\ipykernel_28744\\4017327914.py:11: FutureWarning: suggest_loguniform has been deprecated in v3.0.0. This feature will be removed in v6.0.0. See https://github.com/optuna/optuna/releases/tag/v3.0.0. Use suggest_float(..., log=True) instead.\n",
            "  learning_rate = trial.suggest_loguniform('learning_rate', 0.01, 0.2)\n",
            "[I 2024-12-25 14:46:29,686] Trial 10 finished with value: 0.8321815013295671 and parameters: {'learning_rate': 0.17503153940092334, 'max_depth': 8, 'max_iter': 197}. Best is trial 0 with value: 0.8333631624918492.\n",
            "C:\\Users\\celle\\AppData\\Local\\Temp\\ipykernel_28744\\4017327914.py:11: FutureWarning: suggest_loguniform has been deprecated in v3.0.0. This feature will be removed in v6.0.0. See https://github.com/optuna/optuna/releases/tag/v3.0.0. Use suggest_float(..., log=True) instead.\n",
            "  learning_rate = trial.suggest_loguniform('learning_rate', 0.01, 0.2)\n"
          ]
        }
      ],
      "source": [
        "# Instantiate models\n",
        "svm_model = SVMModel()\n",
        "gbdt_model = GBDTModel()\n",
        "rule_based_model = RuleBasedModel()\n",
        "\n",
        "models = [svm_model, gbdt_model, rule_based_model]\n",
        "\n",
        "# Run all models asynchronously\n",
        "results = asyncio.run(main(models, X_train_tfidf, y_train, X_test_tfidf, y_test))\n",
        "\n",
        "# Compare Results\n",
        "results_df = pd.DataFrame(results, columns=['Model', 'Accuracy'])\n",
        "print(results_df.sort_values(by='Accuracy', ascending=False))"
      ]
    },
    {
      "cell_type": "code",
      "execution_count": null,
      "metadata": {},
      "outputs": [],
      "source": [
        "results_df.to_csv(\"results.csv\", index=False)"
      ]
    }
  ],
  "metadata": {
    "colab": {
      "provenance": []
    },
    "kernelspec": {
      "display_name": "venv",
      "language": "python",
      "name": "python3"
    },
    "language_info": {
      "codemirror_mode": {
        "name": "ipython",
        "version": 3
      },
      "file_extension": ".py",
      "mimetype": "text/x-python",
      "name": "python",
      "nbconvert_exporter": "python",
      "pygments_lexer": "ipython3",
      "version": "3.12.6"
    }
  },
  "nbformat": 4,
  "nbformat_minor": 0
}
